{
 "cells": [
  {
   "cell_type": "markdown",
   "id": "12935656",
   "metadata": {},
   "source": [
    "# Importing Libraries"
   ]
  },
  {
   "cell_type": "code",
   "execution_count": 1,
   "id": "3495ef85",
   "metadata": {},
   "outputs": [],
   "source": [
    "from bs4 import BeautifulSoup\n",
    "import pandas as pd\n",
    "import requests\n",
    "import datetime\n",
    "import smtplib #used for sending emails\n",
    "import time\n",
    "import csv\n",
    "import re"
   ]
  },
  {
   "cell_type": "markdown",
   "id": "7134ebc4",
   "metadata": {},
   "source": [
    "# Connecting to the website"
   ]
  },
  {
   "cell_type": "code",
   "execution_count": 2,
   "id": "b6a4e6cc",
   "metadata": {},
   "outputs": [
    {
     "name": "stdout",
     "output_type": "stream",
     "text": [
      "\n",
      "                   Data Analyst T-Shirt\n",
      "                  \n",
      "£15.90\n"
     ]
    }
   ],
   "source": [
    "URL=\"https://www.amazon.co.uk/Data-Analyst-Gifts-T-Shirts-T-Shirt/dp/B08K5FPZ1Q/ref=sr_1_6?crid=OXVI6BX1P0JV&keywords=data+analyst+tshirt&qid=1646580310&sprefix=data+analyst+%2Caps%2C134&sr=8-6\"\n",
    "\n",
    "headers = {\"User-Agent\": \"Mozilla/5.0 (Windows NT 10.0; Win64; x64) AppleWebKit/537.36 (KHTML, like Gecko) Chrome/99.0.4844.51 Safari/537.36\"}\n",
    "\n",
    "page = requests.get(URL,headers=headers)\n",
    "\n",
    "soup1 = BeautifulSoup(page.content, \"html.parser\")\n",
    "\n",
    "soup2 = BeautifulSoup(soup1.prettify(), \"html.parser\")\n",
    "\n",
    "title = soup2.find(id=\"productTitle\").get_text()\n",
    "\n",
    "price = soup2.find(id=\"corePriceDisplay_desktop_feature_div\").get_text()\n",
    "\n",
    "price.strip()\n",
    "p = price.split()[0]\n",
    "\n",
    "print(title)\n",
    "print(p)"
   ]
  },
  {
   "cell_type": "code",
   "execution_count": 3,
   "id": "9bc31c59",
   "metadata": {},
   "outputs": [
    {
     "name": "stdout",
     "output_type": "stream",
     "text": [
      "Data Analyst T-Shirt\n",
      "15.9\n"
     ]
    }
   ],
   "source": [
    "#cleaning the obtained data\n",
    "title=title.strip()\n",
    "p = p.strip()[1:]\n",
    "p = float(p)\n",
    "\n",
    "print(title)\n",
    "print(p)"
   ]
  },
  {
   "cell_type": "markdown",
   "id": "560a627a",
   "metadata": {},
   "source": [
    "# Making a CSV file out of the data obtained"
   ]
  },
  {
   "cell_type": "code",
   "execution_count": 4,
   "id": "4c81d893",
   "metadata": {},
   "outputs": [],
   "source": [
    "today = datetime.date.today()\n",
    "header = [\"Title\",\"Price\",\"Date\"]\n",
    "data = [title, p, today]\n",
    "\n",
    "with open(\"AmazonWebScrapperDataset.csv\",\"w\", newline='', encoding=\"UTF8\") as f:\n",
    "    writer = csv.writer(f)\n",
    "    writer.writerow(header)\n",
    "    writer.writerow(data)"
   ]
  },
  {
   "cell_type": "code",
   "execution_count": 5,
   "id": "bd7e5493",
   "metadata": {},
   "outputs": [
    {
     "name": "stdout",
     "output_type": "stream",
     "text": [
      "                  Title  Price        Date\n",
      "0  Data Analyst T-Shirt   15.9  2022-03-07\n"
     ]
    }
   ],
   "source": [
    "df = pd.read_csv(r\"D:\\New Projects\\Amazon Web Scraping project\\AmazonWebScrapperDataset.csv\")\n",
    "\n",
    "print(df)"
   ]
  },
  {
   "cell_type": "markdown",
   "id": "1bc5cf71",
   "metadata": {},
   "source": [
    "# Appending data to the existing CSV file "
   ]
  },
  {
   "cell_type": "code",
   "execution_count": 6,
   "id": "ff9fe98c",
   "metadata": {},
   "outputs": [],
   "source": [
    "with open(\"AmazonWebScrapperDataset.csv\",\"a+\", newline='', encoding=\"UTF8\") as f:\n",
    "    writer = csv.writer(f)\n",
    "    writer.writerow(data)"
   ]
  },
  {
   "cell_type": "markdown",
   "id": "e42655e4",
   "metadata": {},
   "source": [
    "# Making an Email Function to get updated when T-shirt ia less than £15.90"
   ]
  },
  {
   "cell_type": "code",
   "execution_count": 7,
   "id": "5d11c507",
   "metadata": {},
   "outputs": [],
   "source": [
    "def send_mail():\n",
    "    server = smtplib.SMTP_SSL('smtp.gmail.com',465)\n",
    "    server.ehlo\n",
    "    server.login('sendersemail@gmail.com','********')\n",
    "    \n",
    "    subject = \"The Shirt you want is below $14! Now is your chance to buy!\"\n",
    "    body = \"Shamika, This is the moment we have been waiting for. Now is your chance to pick up the shirt of your dreams. Don't mess it up! Link here: https://www.amazon.com/Funny-Data-Systems-Business-Analyst/dp/B07FNW9FGJ/ref=sr_1_3?dchild=1&keywords=data+analyst+tshirt&qid=1626655184&sr=8-3\"\n",
    "   \n",
    "    msg = f\"Subject: {subject}\\n\\n{body}\"\n",
    "    \n",
    "    server.sendmail(\n",
    "        'sendersemail@gmail.com','recievers@gmail.com',\n",
    "        msg\n",
    "     \n",
    "    )"
   ]
  },
  {
   "cell_type": "markdown",
   "id": "f220f0cb",
   "metadata": {},
   "source": [
    "# Making a Check Price function"
   ]
  },
  {
   "cell_type": "markdown",
   "id": "3d083554",
   "metadata": {},
   "source": [
    "check_price funtion checks if the price is less than 15.90 and gives an alert on the email id with the link to buy at a low price."
   ]
  },
  {
   "cell_type": "code",
   "execution_count": 8,
   "id": "fa3998ca",
   "metadata": {},
   "outputs": [],
   "source": [
    "def check_price():\n",
    "    URL=\"https://www.amazon.co.uk/Data-Analyst-Gifts-T-Shirts-T-Shirt/dp/B08K5FPZ1Q/ref=sr_1_6?crid=OXVI6BX1P0JV&keywords=data+analyst+tshirt&qid=1646580310&sprefix=data+analyst+%2Caps%2C134&sr=8-6\"\n",
    "\n",
    "    headers = {\"User-Agent\": \"Mozilla/5.0 (Windows NT 10.0; Win64; x64) AppleWebKit/537.36 (KHTML, like Gecko) Chrome/99.0.4844.51 Safari/537.36\"}\n",
    "\n",
    "    page = requests.get(URL,headers=headers)\n",
    "\n",
    "    soup1 = BeautifulSoup(page.content, \"html.parser\")\n",
    "\n",
    "    soup2 = BeautifulSoup(soup1.prettify(), \"html.parser\")\n",
    "\n",
    "    title = soup2.find(id=\"productTitle\").get_text()\n",
    "\n",
    "    price = soup2.find(id=\"corePriceDisplay_desktop_feature_div\").get_text()\n",
    "\n",
    "\n",
    "\n",
    "\n",
    "    #removing white spaces from the price_new1 string\n",
    "    price.strip()\n",
    "    p = price.split()[0]\n",
    "    \n",
    "    p=p.strip()[1:]\n",
    "    p = float(p)\n",
    "    title=title.strip()\n",
    "    \n",
    "    today = datetime.date.today()\n",
    "    header = [\"Title\",\"Price\",\"Date\"]\n",
    "    data = [title, p, today]\n",
    "    \n",
    "    with open(\"AmazonWebScrapperDataset.csv\",\"a+\", newline='', encoding=\"UTF8\") as f:\n",
    "        writer = csv.writer(f)\n",
    "        writer.writerow(data)\n",
    "        \n",
    "    if(p < 15):\n",
    "        \n",
    "        send_mail()"
   ]
  },
  {
   "cell_type": "code",
   "execution_count": null,
   "id": "fb91fee6",
   "metadata": {},
   "outputs": [],
   "source": [
    "while(True):\n",
    "    check_price()\n",
    "    time.sleep(5)"
   ]
  },
  {
   "cell_type": "markdown",
   "id": "abf0ea08",
   "metadata": {},
   "source": [
    "# Checking the Updated CSV file "
   ]
  },
  {
   "cell_type": "code",
   "execution_count": 10,
   "id": "e51923e9",
   "metadata": {},
   "outputs": [
    {
     "name": "stdout",
     "output_type": "stream",
     "text": [
      "                  Title  Price        Date\n",
      "0  Data Analyst T-Shirt   15.9  2022-03-07\n",
      "1  Data Analyst T-Shirt   15.9  2022-03-07\n",
      "2  Data Analyst T-Shirt   15.9  2022-03-07\n",
      "3  Data Analyst T-Shirt   15.9  2022-03-07\n",
      "4  Data Analyst T-Shirt   15.9  2022-03-07\n",
      "5  Data Analyst T-Shirt   15.9  2022-03-07\n"
     ]
    }
   ],
   "source": [
    "df = pd.read_csv(r\"D:\\New Projects\\Amazon Web Scraping project\\AmazonWebScraperDataset.csv\")\n",
    "\n",
    "print(df)"
   ]
  }
 ],
 "metadata": {
  "kernelspec": {
   "display_name": "Python 3 (ipykernel)",
   "language": "python",
   "name": "python3"
  },
  "language_info": {
   "codemirror_mode": {
    "name": "ipython",
    "version": 3
   },
   "file_extension": ".py",
   "mimetype": "text/x-python",
   "name": "python",
   "nbconvert_exporter": "python",
   "pygments_lexer": "ipython3",
   "version": "3.8.10"
  }
 },
 "nbformat": 4,
 "nbformat_minor": 5
}
