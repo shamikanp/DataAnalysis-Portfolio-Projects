{
 "cells": [
  {
   "cell_type": "markdown",
   "id": "fdb8bfee",
   "metadata": {},
   "source": [
    "# Importing Libraries"
   ]
  },
  {
   "cell_type": "code",
   "execution_count": 693,
   "id": "b19ee80c",
   "metadata": {},
   "outputs": [],
   "source": [
    "from tensorflow.keras.layers import Dense, Dropout, Activation, Flatten, Conv2D, MaxPooling2D, MaxPooling1D, BatchNormalization, GlobalAveragePooling2D, Rescaling\n",
    "from tensorflow.keras.applications.resnet50 import preprocess_input, decode_predictions\n",
    "from tensorflow.keras.preprocessing.image import ImageDataGenerator,load_img\n",
    "from tensorflow.keras.applications.resnet50 import ResNet50\n",
    "from sklearn.model_selection import train_test_split\n",
    "from sklearn.metrics import plot_confusion_matrix\n",
    "from tensorflow.keras.preprocessing import image\n",
    "from sklearn.preprocessing import StandardScaler\n",
    "from sklearn.datasets import make_classification\n",
    "from tensorflow.keras.models import Sequential\n",
    "import torchvision.transforms as transforms\n",
    "from tensorflow.keras.models import Model\n",
    "import matplotlib.pyplot as plt\n",
    "from sklearn.svm import SVC\n",
    "import tensorflow as tf\n",
    "import pandas as pd \n",
    "import splitfolders\n",
    "import numpy as np\n",
    "import cv2\n",
    "import os\n",
    "\n"
   ]
  },
  {
   "cell_type": "markdown",
   "id": "cef5d99a",
   "metadata": {},
   "source": [
    "# Splitting the dataset into 2 sets Train and Validation (High Quality Dataset)"
   ]
  },
  {
   "cell_type": "code",
   "execution_count": 694,
   "id": "1fd34769",
   "metadata": {},
   "outputs": [],
   "source": [
    "input_folder = \"D:\\RHUL\\project\\Input_dataset\"\n",
    "output = \"D:\\RHUL\\project\\processed_data\"\n",
    "splitfolders.ratio(input_folder, output, seed=42, ratio=(0.6,0.4))"
   ]
  },
  {
   "cell_type": "code",
   "execution_count": 695,
   "id": "296e2c21",
   "metadata": {},
   "outputs": [],
   "source": [
    "img_height, img_width = (224,224)\n",
    "batch_size = 24\n",
    "\n",
    "train_data_dir = r\"D:\\RHUL\\project\\processed_data\\train\"\n",
    "valid_data_dir = r\"D:\\RHUL\\project\\processed_data\\val\"\n",
    "test_data_dir = r\"D:\\RHUL\\project\\test_high\""
   ]
  },
  {
   "cell_type": "code",
   "execution_count": 696,
   "id": "cc4e0b72",
   "metadata": {},
   "outputs": [],
   "source": [
    "CATEGORIES = [\"alpha\",\"beta\",\"chi\",\"delta\",\"epsilon\",\"eta\",\"gamma\",\"iota\",\"kappa\",\"lambda\",\"mu\",\"nu\",\"omega\",\"omicron\",\"phi\",\"pi\",\"psi\",\"rho\",\"sigma\",\"tau\",\"theta\",\"upsilon\",\"xi\",\"zeta\"]"
   ]
  },
  {
   "cell_type": "code",
   "execution_count": 697,
   "id": "eb9cac47",
   "metadata": {},
   "outputs": [
    {
     "data": {
      "text/plain": [
       "['alpha',\n",
       " 'beta',\n",
       " 'chi',\n",
       " 'delta',\n",
       " 'epsilon',\n",
       " 'eta',\n",
       " 'gamma',\n",
       " 'iota',\n",
       " 'kappa',\n",
       " 'lambda',\n",
       " 'mu',\n",
       " 'nu',\n",
       " 'omega',\n",
       " 'omicron',\n",
       " 'phi',\n",
       " 'pi',\n",
       " 'psi',\n",
       " 'rho',\n",
       " 'sigma',\n",
       " 'tau',\n",
       " 'theta',\n",
       " 'upsilon',\n",
       " 'xi',\n",
       " 'zeta']"
      ]
     },
     "execution_count": 697,
     "metadata": {},
     "output_type": "execute_result"
    }
   ],
   "source": [
    "CATEGORIES"
   ]
  },
  {
   "cell_type": "code",
   "execution_count": 698,
   "id": "815e6e07",
   "metadata": {},
   "outputs": [
    {
     "name": "stdout",
     "output_type": "stream",
     "text": [
      "Found 96 images belonging to 24 classes.\n",
      "Found 24 images belonging to 24 classes.\n"
     ]
    }
   ],
   "source": [
    "train_datagen = ImageDataGenerator(preprocessing_function=preprocess_input,\n",
    "                                  shear_range=0.2,\n",
    "                                  zoom_range=0.2,\n",
    "                                  horizontal_flip=False,\n",
    "                                  validation_split=0.4)\n",
    "\n",
    "train_generator = train_datagen.flow_from_directory(\n",
    "    train_data_dir,\n",
    "    target_size=(img_height, img_width),\n",
    "    batch_size=batch_size,\n",
    "    class_mode='categorical',\n",
    "    subset='training')\n",
    "\n",
    "valid_generator = train_datagen.flow_from_directory(\n",
    "    valid_data_dir,\n",
    "    target_size=(img_height, img_width),\n",
    "    batch_size=batch_size,\n",
    "    class_mode='categorical',\n",
    "    subset='validation')"
   ]
  },
  {
   "cell_type": "code",
   "execution_count": 699,
   "id": "56a73a6f",
   "metadata": {},
   "outputs": [
    {
     "data": {
      "text/plain": [
       "(24, 224, 224, 3)"
      ]
     },
     "execution_count": 699,
     "metadata": {},
     "output_type": "execute_result"
    }
   ],
   "source": [
    "x_train, y_train = train_generator.next()\n",
    "x_train.shape"
   ]
  },
  {
   "cell_type": "code",
   "execution_count": 700,
   "id": "6ccf772e",
   "metadata": {},
   "outputs": [
    {
     "data": {
      "text/plain": [
       "(24, 224, 224, 3)"
      ]
     },
     "execution_count": 700,
     "metadata": {},
     "output_type": "execute_result"
    }
   ],
   "source": [
    "x_valid,y_valid = valid_generator.next()\n",
    "x_valid.shape"
   ]
  },
  {
   "cell_type": "code",
   "execution_count": 701,
   "id": "390713f8",
   "metadata": {},
   "outputs": [
    {
     "name": "stdout",
     "output_type": "stream",
     "text": [
      "Found 96 images belonging to 24 classes.\n"
     ]
    }
   ],
   "source": [
    "test_datagen = ImageDataGenerator(preprocessing_function=preprocess_input,\n",
    "                                  shear_range=0.2,\n",
    "                                  zoom_range=0.2,\n",
    "                                  horizontal_flip=False)\n",
    "test_generator = test_datagen.flow_from_directory(\n",
    "    test_data_dir,\n",
    "    target_size=(img_height, img_width),\n",
    "    batch_size=batch_size,\n",
    "    class_mode='categorical')"
   ]
  },
  {
   "cell_type": "code",
   "execution_count": 702,
   "id": "6237797f",
   "metadata": {},
   "outputs": [
    {
     "data": {
      "text/plain": [
       "(24, 224, 224, 3)"
      ]
     },
     "execution_count": 702,
     "metadata": {},
     "output_type": "execute_result"
    }
   ],
   "source": [
    "x_test,y_test = test_generator.next()\n",
    "x_test.shape"
   ]
  },
  {
   "cell_type": "code",
   "execution_count": 703,
   "id": "4b51d026",
   "metadata": {},
   "outputs": [
    {
     "data": {
      "text/plain": [
       "array([[[[151.061  , 138.22101, 131.32   ],\n",
       "         [151.061  , 138.22101, 131.32   ],\n",
       "         [151.061  , 138.22101, 131.32   ],\n",
       "         ...,\n",
       "         [151.061  , 138.22101, 131.32   ],\n",
       "         [151.061  , 138.22101, 131.32   ],\n",
       "         [151.061  , 138.22101, 131.32   ]],\n",
       "\n",
       "        [[151.061  , 138.22101, 131.32   ],\n",
       "         [151.061  , 138.22101, 131.32   ],\n",
       "         [151.061  , 138.22101, 131.32   ],\n",
       "         ...,\n",
       "         [151.061  , 138.22101, 131.32   ],\n",
       "         [151.061  , 138.22101, 131.32   ],\n",
       "         [151.061  , 138.22101, 131.32   ]],\n",
       "\n",
       "        [[151.061  , 138.22101, 131.32   ],\n",
       "         [151.061  , 138.22101, 131.32   ],\n",
       "         [151.061  , 138.22101, 131.32   ],\n",
       "         ...,\n",
       "         [151.061  , 138.22101, 131.32   ],\n",
       "         [151.061  , 138.22101, 131.32   ],\n",
       "         [151.061  , 138.22101, 131.32   ]],\n",
       "\n",
       "        ...,\n",
       "\n",
       "        [[151.061  , 138.22101, 131.32   ],\n",
       "         [151.061  , 138.22101, 131.32   ],\n",
       "         [151.061  , 138.22101, 131.32   ],\n",
       "         ...,\n",
       "         [151.061  , 138.22101, 131.32   ],\n",
       "         [151.061  , 138.22101, 131.32   ],\n",
       "         [151.061  , 138.22101, 131.32   ]],\n",
       "\n",
       "        [[151.061  , 138.22101, 131.32   ],\n",
       "         [151.061  , 138.22101, 131.32   ],\n",
       "         [151.061  , 138.22101, 131.32   ],\n",
       "         ...,\n",
       "         [151.061  , 138.22101, 131.32   ],\n",
       "         [151.061  , 138.22101, 131.32   ],\n",
       "         [151.061  , 138.22101, 131.32   ]],\n",
       "\n",
       "        [[151.061  , 138.22101, 131.32   ],\n",
       "         [151.061  , 138.22101, 131.32   ],\n",
       "         [151.061  , 138.22101, 131.32   ],\n",
       "         ...,\n",
       "         [151.061  , 138.22101, 131.32   ],\n",
       "         [151.061  , 138.22101, 131.32   ],\n",
       "         [151.061  , 138.22101, 131.32   ]]],\n",
       "\n",
       "\n",
       "       [[[151.061  , 138.22101, 131.32   ],\n",
       "         [151.061  , 138.22101, 131.32   ],\n",
       "         [151.061  , 138.22101, 131.32   ],\n",
       "         ...,\n",
       "         [151.061  , 138.22101, 131.32   ],\n",
       "         [151.061  , 138.22101, 131.32   ],\n",
       "         [151.061  , 138.22101, 131.32   ]],\n",
       "\n",
       "        [[151.061  , 138.22101, 131.32   ],\n",
       "         [151.061  , 138.22101, 131.32   ],\n",
       "         [151.061  , 138.22101, 131.32   ],\n",
       "         ...,\n",
       "         [151.061  , 138.22101, 131.32   ],\n",
       "         [151.061  , 138.22101, 131.32   ],\n",
       "         [151.061  , 138.22101, 131.32   ]],\n",
       "\n",
       "        [[151.061  , 138.22101, 131.32   ],\n",
       "         [151.061  , 138.22101, 131.32   ],\n",
       "         [151.061  , 138.22101, 131.32   ],\n",
       "         ...,\n",
       "         [151.061  , 138.22101, 131.32   ],\n",
       "         [151.061  , 138.22101, 131.32   ],\n",
       "         [151.061  , 138.22101, 131.32   ]],\n",
       "\n",
       "        ...,\n",
       "\n",
       "        [[151.061  , 138.22101, 131.32   ],\n",
       "         [151.061  , 138.22101, 131.32   ],\n",
       "         [151.061  , 138.22101, 131.32   ],\n",
       "         ...,\n",
       "         [151.061  , 138.22101, 131.32   ],\n",
       "         [151.061  , 138.22101, 131.32   ],\n",
       "         [151.061  , 138.22101, 131.32   ]],\n",
       "\n",
       "        [[151.061  , 138.22101, 131.32   ],\n",
       "         [151.061  , 138.22101, 131.32   ],\n",
       "         [151.061  , 138.22101, 131.32   ],\n",
       "         ...,\n",
       "         [151.061  , 138.22101, 131.32   ],\n",
       "         [151.061  , 138.22101, 131.32   ],\n",
       "         [151.061  , 138.22101, 131.32   ]],\n",
       "\n",
       "        [[151.061  , 138.22101, 131.32   ],\n",
       "         [151.061  , 138.22101, 131.32   ],\n",
       "         [151.061  , 138.22101, 131.32   ],\n",
       "         ...,\n",
       "         [151.061  , 138.22101, 131.32   ],\n",
       "         [151.061  , 138.22101, 131.32   ],\n",
       "         [151.061  , 138.22101, 131.32   ]]],\n",
       "\n",
       "\n",
       "       [[[151.061  , 138.22101, 131.32   ],\n",
       "         [151.061  , 138.22101, 131.32   ],\n",
       "         [151.061  , 138.22101, 131.32   ],\n",
       "         ...,\n",
       "         [151.061  , 138.22101, 131.32   ],\n",
       "         [151.061  , 138.22101, 131.32   ],\n",
       "         [151.061  , 138.22101, 131.32   ]],\n",
       "\n",
       "        [[151.061  , 138.22101, 131.32   ],\n",
       "         [151.061  , 138.22101, 131.32   ],\n",
       "         [151.061  , 138.22101, 131.32   ],\n",
       "         ...,\n",
       "         [151.061  , 138.22101, 131.32   ],\n",
       "         [151.061  , 138.22101, 131.32   ],\n",
       "         [151.061  , 138.22101, 131.32   ]],\n",
       "\n",
       "        [[151.061  , 138.22101, 131.32   ],\n",
       "         [151.061  , 138.22101, 131.32   ],\n",
       "         [151.061  , 138.22101, 131.32   ],\n",
       "         ...,\n",
       "         [151.061  , 138.22101, 131.32   ],\n",
       "         [151.061  , 138.22101, 131.32   ],\n",
       "         [151.061  , 138.22101, 131.32   ]],\n",
       "\n",
       "        ...,\n",
       "\n",
       "        [[151.061  , 138.22101, 131.32   ],\n",
       "         [151.061  , 138.22101, 131.32   ],\n",
       "         [151.061  , 138.22101, 131.32   ],\n",
       "         ...,\n",
       "         [151.061  , 138.22101, 131.32   ],\n",
       "         [151.061  , 138.22101, 131.32   ],\n",
       "         [151.061  , 138.22101, 131.32   ]],\n",
       "\n",
       "        [[151.061  , 138.22101, 131.32   ],\n",
       "         [151.061  , 138.22101, 131.32   ],\n",
       "         [151.061  , 138.22101, 131.32   ],\n",
       "         ...,\n",
       "         [151.061  , 138.22101, 131.32   ],\n",
       "         [151.061  , 138.22101, 131.32   ],\n",
       "         [151.061  , 138.22101, 131.32   ]],\n",
       "\n",
       "        [[151.061  , 138.22101, 131.32   ],\n",
       "         [151.061  , 138.22101, 131.32   ],\n",
       "         [151.061  , 138.22101, 131.32   ],\n",
       "         ...,\n",
       "         [151.061  , 138.22101, 131.32   ],\n",
       "         [151.061  , 138.22101, 131.32   ],\n",
       "         [151.061  , 138.22101, 131.32   ]]],\n",
       "\n",
       "\n",
       "       ...,\n",
       "\n",
       "\n",
       "       [[[151.061  , 138.22101, 131.32   ],\n",
       "         [151.061  , 138.22101, 131.32   ],\n",
       "         [151.061  , 138.22101, 131.32   ],\n",
       "         ...,\n",
       "         [151.061  , 138.22101, 131.32   ],\n",
       "         [151.061  , 138.22101, 131.32   ],\n",
       "         [151.061  , 138.22101, 131.32   ]],\n",
       "\n",
       "        [[151.061  , 138.22101, 131.32   ],\n",
       "         [151.061  , 138.22101, 131.32   ],\n",
       "         [151.061  , 138.22101, 131.32   ],\n",
       "         ...,\n",
       "         [151.061  , 138.22101, 131.32   ],\n",
       "         [151.061  , 138.22101, 131.32   ],\n",
       "         [151.061  , 138.22101, 131.32   ]],\n",
       "\n",
       "        [[151.061  , 138.22101, 131.32   ],\n",
       "         [151.061  , 138.22101, 131.32   ],\n",
       "         [151.061  , 138.22101, 131.32   ],\n",
       "         ...,\n",
       "         [151.061  , 138.22101, 131.32   ],\n",
       "         [151.061  , 138.22101, 131.32   ],\n",
       "         [151.061  , 138.22101, 131.32   ]],\n",
       "\n",
       "        ...,\n",
       "\n",
       "        [[151.061  , 138.22101, 131.32   ],\n",
       "         [151.061  , 138.22101, 131.32   ],\n",
       "         [151.061  , 138.22101, 131.32   ],\n",
       "         ...,\n",
       "         [151.061  , 138.22101, 131.32   ],\n",
       "         [151.061  , 138.22101, 131.32   ],\n",
       "         [151.061  , 138.22101, 131.32   ]],\n",
       "\n",
       "        [[151.061  , 138.22101, 131.32   ],\n",
       "         [151.061  , 138.22101, 131.32   ],\n",
       "         [151.061  , 138.22101, 131.32   ],\n",
       "         ...,\n",
       "         [151.061  , 138.22101, 131.32   ],\n",
       "         [151.061  , 138.22101, 131.32   ],\n",
       "         [151.061  , 138.22101, 131.32   ]],\n",
       "\n",
       "        [[151.061  , 138.22101, 131.32   ],\n",
       "         [151.061  , 138.22101, 131.32   ],\n",
       "         [151.061  , 138.22101, 131.32   ],\n",
       "         ...,\n",
       "         [151.061  , 138.22101, 131.32   ],\n",
       "         [151.061  , 138.22101, 131.32   ],\n",
       "         [151.061  , 138.22101, 131.32   ]]],\n",
       "\n",
       "\n",
       "       [[[151.061  , 138.22101, 131.32   ],\n",
       "         [151.061  , 138.22101, 131.32   ],\n",
       "         [151.061  , 138.22101, 131.32   ],\n",
       "         ...,\n",
       "         [151.061  , 138.22101, 131.32   ],\n",
       "         [151.061  , 138.22101, 131.32   ],\n",
       "         [151.061  , 138.22101, 131.32   ]],\n",
       "\n",
       "        [[151.061  , 138.22101, 131.32   ],\n",
       "         [151.061  , 138.22101, 131.32   ],\n",
       "         [151.061  , 138.22101, 131.32   ],\n",
       "         ...,\n",
       "         [151.061  , 138.22101, 131.32   ],\n",
       "         [151.061  , 138.22101, 131.32   ],\n",
       "         [151.061  , 138.22101, 131.32   ]],\n",
       "\n",
       "        [[151.061  , 138.22101, 131.32   ],\n",
       "         [151.061  , 138.22101, 131.32   ],\n",
       "         [151.061  , 138.22101, 131.32   ],\n",
       "         ...,\n",
       "         [151.061  , 138.22101, 131.32   ],\n",
       "         [151.061  , 138.22101, 131.32   ],\n",
       "         [151.061  , 138.22101, 131.32   ]],\n",
       "\n",
       "        ...,\n",
       "\n",
       "        [[151.061  , 138.22101, 131.32   ],\n",
       "         [151.061  , 138.22101, 131.32   ],\n",
       "         [151.061  , 138.22101, 131.32   ],\n",
       "         ...,\n",
       "         [151.061  , 138.22101, 131.32   ],\n",
       "         [151.061  , 138.22101, 131.32   ],\n",
       "         [151.061  , 138.22101, 131.32   ]],\n",
       "\n",
       "        [[151.061  , 138.22101, 131.32   ],\n",
       "         [151.061  , 138.22101, 131.32   ],\n",
       "         [151.061  , 138.22101, 131.32   ],\n",
       "         ...,\n",
       "         [151.061  , 138.22101, 131.32   ],\n",
       "         [151.061  , 138.22101, 131.32   ],\n",
       "         [151.061  , 138.22101, 131.32   ]],\n",
       "\n",
       "        [[151.061  , 138.22101, 131.32   ],\n",
       "         [151.061  , 138.22101, 131.32   ],\n",
       "         [151.061  , 138.22101, 131.32   ],\n",
       "         ...,\n",
       "         [151.061  , 138.22101, 131.32   ],\n",
       "         [151.061  , 138.22101, 131.32   ],\n",
       "         [151.061  , 138.22101, 131.32   ]]],\n",
       "\n",
       "\n",
       "       [[[151.061  , 138.22101, 131.32   ],\n",
       "         [151.061  , 138.22101, 131.32   ],\n",
       "         [151.061  , 138.22101, 131.32   ],\n",
       "         ...,\n",
       "         [151.061  , 138.22101, 131.32   ],\n",
       "         [151.061  , 138.22101, 131.32   ],\n",
       "         [151.061  , 138.22101, 131.32   ]],\n",
       "\n",
       "        [[151.061  , 138.22101, 131.32   ],\n",
       "         [151.061  , 138.22101, 131.32   ],\n",
       "         [151.061  , 138.22101, 131.32   ],\n",
       "         ...,\n",
       "         [151.061  , 138.22101, 131.32   ],\n",
       "         [151.061  , 138.22101, 131.32   ],\n",
       "         [151.061  , 138.22101, 131.32   ]],\n",
       "\n",
       "        [[151.061  , 138.22101, 131.32   ],\n",
       "         [151.061  , 138.22101, 131.32   ],\n",
       "         [151.061  , 138.22101, 131.32   ],\n",
       "         ...,\n",
       "         [151.061  , 138.22101, 131.32   ],\n",
       "         [151.061  , 138.22101, 131.32   ],\n",
       "         [151.061  , 138.22101, 131.32   ]],\n",
       "\n",
       "        ...,\n",
       "\n",
       "        [[151.061  , 138.22101, 131.32   ],\n",
       "         [151.061  , 138.22101, 131.32   ],\n",
       "         [151.061  , 138.22101, 131.32   ],\n",
       "         ...,\n",
       "         [151.061  , 138.22101, 131.32   ],\n",
       "         [151.061  , 138.22101, 131.32   ],\n",
       "         [151.061  , 138.22101, 131.32   ]],\n",
       "\n",
       "        [[151.061  , 138.22101, 131.32   ],\n",
       "         [151.061  , 138.22101, 131.32   ],\n",
       "         [151.061  , 138.22101, 131.32   ],\n",
       "         ...,\n",
       "         [151.061  , 138.22101, 131.32   ],\n",
       "         [151.061  , 138.22101, 131.32   ],\n",
       "         [151.061  , 138.22101, 131.32   ]],\n",
       "\n",
       "        [[151.061  , 138.22101, 131.32   ],\n",
       "         [151.061  , 138.22101, 131.32   ],\n",
       "         [151.061  , 138.22101, 131.32   ],\n",
       "         ...,\n",
       "         [151.061  , 138.22101, 131.32   ],\n",
       "         [151.061  , 138.22101, 131.32   ],\n",
       "         [151.061  , 138.22101, 131.32   ]]]], dtype=float32)"
      ]
     },
     "execution_count": 703,
     "metadata": {},
     "output_type": "execute_result"
    }
   ],
   "source": [
    "x_test"
   ]
  },
  {
   "cell_type": "markdown",
   "id": "cce15e34",
   "metadata": {},
   "source": [
    "# ResNet50 with High quality greek letters dataset"
   ]
  },
  {
   "cell_type": "code",
   "execution_count": 257,
   "id": "530bf5a7",
   "metadata": {},
   "outputs": [
    {
     "name": "stdout",
     "output_type": "stream",
     "text": [
      "Epoch 1/15\n",
      "4/4 [==============================] - 13s 3s/step - loss: 4.6843 - accuracy: 0.1250\n",
      "Epoch 2/15\n",
      "4/4 [==============================] - 11s 2s/step - loss: 2.7775 - accuracy: 0.5938\n",
      "Epoch 3/15\n",
      "4/4 [==============================] - 11s 2s/step - loss: 1.0512 - accuracy: 0.8438\n",
      "Epoch 4/15\n",
      "4/4 [==============================] - 11s 2s/step - loss: 0.2878 - accuracy: 0.9479\n",
      "Epoch 5/15\n",
      "4/4 [==============================] - 11s 2s/step - loss: 0.2464 - accuracy: 0.9271\n",
      "Epoch 6/15\n",
      "4/4 [==============================] - 11s 3s/step - loss: 0.1153 - accuracy: 0.9792\n",
      "Epoch 7/15\n",
      "4/4 [==============================] - 11s 3s/step - loss: 0.0593 - accuracy: 0.9896\n",
      "Epoch 8/15\n",
      "4/4 [==============================] - 11s 3s/step - loss: 0.0273 - accuracy: 1.0000\n",
      "Epoch 9/15\n",
      "4/4 [==============================] - 11s 2s/step - loss: 0.0596 - accuracy: 0.9792\n",
      "Epoch 10/15\n",
      "4/4 [==============================] - 11s 2s/step - loss: 0.0098 - accuracy: 1.0000\n",
      "Epoch 11/15\n",
      "4/4 [==============================] - 11s 2s/step - loss: 0.0127 - accuracy: 1.0000\n",
      "Epoch 12/15\n",
      "4/4 [==============================] - 11s 2s/step - loss: 0.0157 - accuracy: 1.0000\n",
      "Epoch 13/15\n",
      "4/4 [==============================] - 11s 2s/step - loss: 0.0065 - accuracy: 1.0000\n",
      "Epoch 14/15\n",
      "4/4 [==============================] - 11s 2s/step - loss: 0.0139 - accuracy: 0.9896\n",
      "Epoch 15/15\n",
      "4/4 [==============================] - 11s 2s/step - loss: 0.0124 - accuracy: 0.9896\n"
     ]
    },
    {
     "data": {
      "text/plain": [
       "<keras.callbacks.History at 0x1b329be3280>"
      ]
     },
     "execution_count": 257,
     "metadata": {},
     "output_type": "execute_result"
    }
   ],
   "source": [
    "model = ResNet50(include_top=False, weights='imagenet')\n",
    "x = model.output\n",
    "x = GlobalAveragePooling2D()(x)\n",
    "x = Dense(1024, activation='relu')(x)\n",
    "p = Dense(train_generator.num_classes, activation='softmax')(x)\n",
    "model_ResNet50_high = Model(inputs=model.input, outputs=p)\n",
    "\n",
    "for layer in model.layers:\n",
    "    layer.trainable = False\n",
    "    \n",
    "tf.keras.optimizers.Adam(\n",
    "    learning_rate=0.0001,\n",
    "    epsilon=1e-07,\n",
    "    name=\"adam\"\n",
    ")\n",
    "    \n",
    "model_ResNet50_high.compile(optimizer='adam', loss='categorical_crossentropy', metrics = ['accuracy'])\n",
    "\n",
    "model_ResNet50_high.fit(train_generator, epochs = 15)"
   ]
  },
  {
   "cell_type": "code",
   "execution_count": 258,
   "id": "520a727d",
   "metadata": {},
   "outputs": [
    {
     "name": "stdout",
     "output_type": "stream",
     "text": [
      "1/1 [==============================] - 3s 3s/step - loss: 0.2642 - accuracy: 0.9167\n"
     ]
    },
    {
     "data": {
      "text/plain": [
       "[0.26421117782592773, 0.9166666865348816]"
      ]
     },
     "execution_count": 258,
     "metadata": {},
     "output_type": "execute_result"
    }
   ],
   "source": [
    "model_ResNet50_high.evaluate(x_valid, y_valid)"
   ]
  },
  {
   "cell_type": "code",
   "execution_count": 301,
   "id": "5541d8b6",
   "metadata": {},
   "outputs": [],
   "source": [
    "test_acc = []\n",
    "test_error = []"
   ]
  },
  {
   "cell_type": "code",
   "execution_count": 302,
   "id": "d4a8a518",
   "metadata": {},
   "outputs": [
    {
     "name": "stdout",
     "output_type": "stream",
     "text": [
      "1/1 [==============================] - 4s 4s/step - loss: 0.1828 - accuracy: 0.9583\n"
     ]
    }
   ],
   "source": [
    "results = model_ResNet50_high.evaluate(x_test, y_test)"
   ]
  },
  {
   "cell_type": "code",
   "execution_count": 303,
   "id": "c6bdd529",
   "metadata": {},
   "outputs": [],
   "source": [
    "test_error.append(results[0])\n",
    "test_acc.append(results[1])"
   ]
  },
  {
   "cell_type": "code",
   "execution_count": 704,
   "id": "71aa9074",
   "metadata": {},
   "outputs": [],
   "source": [
    "predictions = model_ResNet50_high.predict(x_test)"
   ]
  },
  {
   "cell_type": "code",
   "execution_count": 705,
   "id": "7dea5fc3",
   "metadata": {},
   "outputs": [
    {
     "data": {
      "text/plain": [
       "2"
      ]
     },
     "execution_count": 705,
     "metadata": {},
     "output_type": "execute_result"
    }
   ],
   "source": [
    "np.argmax(predictions[0])"
   ]
  },
  {
   "cell_type": "code",
   "execution_count": 706,
   "id": "28d08fc4",
   "metadata": {},
   "outputs": [
    {
     "data": {
      "text/plain": [
       "array([0., 0., 1., 0., 0., 0., 0., 0., 0., 0., 0., 0., 0., 0., 0., 0., 0.,\n",
       "       0., 0., 0., 0., 0., 0., 0.], dtype=float32)"
      ]
     },
     "execution_count": 706,
     "metadata": {},
     "output_type": "execute_result"
    }
   ],
   "source": [
    "y_test[0]"
   ]
  },
  {
   "cell_type": "code",
   "execution_count": 708,
   "id": "3a7a189f",
   "metadata": {},
   "outputs": [],
   "source": [
    "def plot_image(i, predictions_array, true_label, img):\n",
    "    true_label, img = true_label[i], img[i]\n",
    "    plt.grid(False)\n",
    "    plt.xticks([])\n",
    "    plt.yticks([])\n",
    "    plt.imshow(img, cmap=plt.cm.binary)\n",
    "    predicted_label = np.argmax(predictions_array)\n",
    "    print(\"predicted_label = \",predicted_label)\n",
    "    l = list(true_label)\n",
    "    print(\"true_label in boolean list =\",l)\n",
    "    n = list(true_label).index(1)\n",
    "    print(\"true_label after converting to integer =\",n)\n",
    "    if predicted_label == n:\n",
    "        color = 'blue'\n",
    "    else:\n",
    "        color = \"red\"\n",
    "\n",
    "    plt.xlabel(\"{} {:2.0f}% ({})\".format(CATEGORIES[predicted_label],\n",
    "                                100*np.max(predictions_array),\n",
    "                                CATEGORIES[n]),\n",
    "                                color=color,\n",
    "                                size=20)   \n",
    "def plot_prediction_array(i, predictions_array, true_label):\n",
    "    true_label = any(true_label[i])\n",
    "    plt.grid(False)\n",
    "    plt.xticks(range(24))\n",
    "    plt.yticks([])\n",
    "    thisplot = plt.bar(range(24), predictions_array, color=\"blue\")\n",
    "    plt.ylim([0, 1])\n",
    "    predicted_label = np.argmax(predictions_array)"
   ]
  },
  {
   "cell_type": "code",
   "execution_count": 709,
   "id": "87b6ef1c",
   "metadata": {},
   "outputs": [
    {
     "name": "stderr",
     "output_type": "stream",
     "text": [
      "Clipping input data to the valid range for imshow with RGB data ([0..1] for floats or [0..255] for integers).\n"
     ]
    },
    {
     "name": "stdout",
     "output_type": "stream",
     "text": [
      "predicted_label =  2\n",
      "true_label in boolean list = [0.0, 0.0, 1.0, 0.0, 0.0, 0.0, 0.0, 0.0, 0.0, 0.0, 0.0, 0.0, 0.0, 0.0, 0.0, 0.0, 0.0, 0.0, 0.0, 0.0, 0.0, 0.0, 0.0, 0.0]\n",
      "true_label after converting to integer = 2\n"
     ]
    },
    {
     "data": {
      "image/png": "[encoded data removed]",
      "text/plain": [
       "<Figure size 1440x360 with 2 Axes>"
      ]
     },
     "metadata": {
      "needs_background": "light"
     },
     "output_type": "display_data"
    }
   ],
   "source": [
    "import numpy as np\n",
    "i = 0\n",
    "plt.figure(figsize=(20,5))\n",
    "plt.subplot(1,2,1)\n",
    "plot_image(i, predictions[i], y_test,x_test)\n",
    "plt.subplot(1,2,2)\n",
    "plot_prediction_array(i, predictions[i], y_test)\n",
    "plt.show()"
   ]
  },
  {
   "cell_type": "code",
   "execution_count": 710,
   "id": "b8124607",
   "metadata": {},
   "outputs": [
    {
     "name": "stderr",
     "output_type": "stream",
     "text": [
      "Clipping input data to the valid range for imshow with RGB data ([0..1] for floats or [0..255] for integers).\n"
     ]
    },
    {
     "name": "stdout",
     "output_type": "stream",
     "text": [
      "predicted_label =  7\n",
      "true_label in boolean list = [0.0, 0.0, 0.0, 0.0, 0.0, 0.0, 0.0, 1.0, 0.0, 0.0, 0.0, 0.0, 0.0, 0.0, 0.0, 0.0, 0.0, 0.0, 0.0, 0.0, 0.0, 0.0, 0.0, 0.0]\n",
      "true_label after converting to integer = 7\n"
     ]
    },
    {
     "data": {
      "image/png": "[encoded data removed]",
      "text/plain": [
       "<Figure size 1440x360 with 2 Axes>"
      ]
     },
     "metadata": {
      "needs_background": "light"
     },
     "output_type": "display_data"
    }
   ],
   "source": [
    "import numpy as np\n",
    "i = 23\n",
    "plt.figure(figsize=(20,5))\n",
    "plt.subplot(1,2,1)\n",
    "plot_image(i, predictions[i], y_test,x_test)\n",
    "plt.subplot(1,2,2)\n",
    "plot_prediction_array(i, predictions[i], y_test)\n",
    "plt.show()"
   ]
  },
  {
   "cell_type": "markdown",
   "id": "ae17db80",
   "metadata": {},
   "source": [
    "# CNN with High quality greek letters dataset"
   ]
  },
  {
   "cell_type": "code",
   "execution_count": 268,
   "id": "387e97fc",
   "metadata": {},
   "outputs": [
    {
     "name": "stdout",
     "output_type": "stream",
     "text": [
      "Epoch 1/50\n",
      "4/4 [==============================] - 6s 1s/step - loss: 34.0088 - accuracy: 0.0208\n",
      "Epoch 2/50\n",
      "4/4 [==============================] - 5s 1s/step - loss: 2.9040 - accuracy: 0.2812\n",
      "Epoch 3/50\n",
      "4/4 [==============================] - 5s 1s/step - loss: 2.1223 - accuracy: 0.4479\n",
      "Epoch 4/50\n",
      "4/4 [==============================] - 5s 1s/step - loss: 1.5587 - accuracy: 0.6042\n",
      "Epoch 5/50\n",
      "4/4 [==============================] - 5s 1s/step - loss: 0.8909 - accuracy: 0.7188\n",
      "Epoch 6/50\n",
      "4/4 [==============================] - 5s 1s/step - loss: 0.6642 - accuracy: 0.8021\n",
      "Epoch 7/50\n",
      "4/4 [==============================] - 5s 1s/step - loss: 0.4821 - accuracy: 0.9167\n",
      "Epoch 8/50\n",
      "4/4 [==============================] - 5s 1s/step - loss: 0.3069 - accuracy: 0.9479\n",
      "Epoch 9/50\n",
      "4/4 [==============================] - 5s 1s/step - loss: 0.1952 - accuracy: 0.9792\n",
      "Epoch 10/50\n",
      "4/4 [==============================] - 5s 1s/step - loss: 0.1926 - accuracy: 0.9583\n",
      "Epoch 11/50\n",
      "4/4 [==============================] - 6s 1s/step - loss: 0.1533 - accuracy: 0.9583\n",
      "Epoch 12/50\n",
      "4/4 [==============================] - 5s 1s/step - loss: 0.1507 - accuracy: 0.9583\n",
      "Epoch 13/50\n",
      "4/4 [==============================] - 5s 1s/step - loss: 0.0827 - accuracy: 0.9688\n",
      "Epoch 14/50\n",
      "4/4 [==============================] - 5s 1s/step - loss: 0.2191 - accuracy: 0.9375\n",
      "Epoch 15/50\n",
      "4/4 [==============================] - 6s 1s/step - loss: 0.1137 - accuracy: 0.9896\n",
      "Epoch 16/50\n",
      "4/4 [==============================] - 6s 1s/step - loss: 0.0609 - accuracy: 0.9792\n",
      "Epoch 17/50\n",
      "4/4 [==============================] - 6s 1s/step - loss: 0.0171 - accuracy: 1.0000\n",
      "Epoch 18/50\n",
      "4/4 [==============================] - 6s 1s/step - loss: 0.0397 - accuracy: 0.9896\n",
      "Epoch 19/50\n",
      "4/4 [==============================] - 6s 1s/step - loss: 0.1439 - accuracy: 0.9479\n",
      "Epoch 20/50\n",
      "4/4 [==============================] - 6s 1s/step - loss: 0.0572 - accuracy: 0.9792\n",
      "Epoch 21/50\n",
      "4/4 [==============================] - 6s 1s/step - loss: 0.0091 - accuracy: 1.0000\n",
      "Epoch 22/50\n",
      "4/4 [==============================] - 6s 1s/step - loss: 0.0178 - accuracy: 1.0000\n",
      "Epoch 23/50\n",
      "4/4 [==============================] - 6s 1s/step - loss: 0.0117 - accuracy: 1.0000\n",
      "Epoch 24/50\n",
      "4/4 [==============================] - 6s 1s/step - loss: 0.0130 - accuracy: 0.9896\n",
      "Epoch 25/50\n",
      "4/4 [==============================] - 5s 1s/step - loss: 0.0032 - accuracy: 1.0000\n",
      "Epoch 26/50\n",
      "4/4 [==============================] - 5s 1s/step - loss: 0.1029 - accuracy: 0.9583\n",
      "Epoch 27/50\n",
      "4/4 [==============================] - 5s 1s/step - loss: 0.0195 - accuracy: 1.0000\n",
      "Epoch 28/50\n",
      "4/4 [==============================] - 6s 1s/step - loss: 0.0191 - accuracy: 0.9896\n",
      "Epoch 29/50\n",
      "4/4 [==============================] - 6s 1s/step - loss: 0.0014 - accuracy: 1.0000\n",
      "Epoch 30/50\n",
      "4/4 [==============================] - 6s 1s/step - loss: 0.0080 - accuracy: 1.0000\n",
      "Epoch 31/50\n",
      "4/4 [==============================] - 6s 1s/step - loss: 0.1557 - accuracy: 0.9688\n",
      "Epoch 32/50\n",
      "4/4 [==============================] - 6s 1s/step - loss: 0.0142 - accuracy: 1.0000\n",
      "Epoch 33/50\n",
      "4/4 [==============================] - 6s 1s/step - loss: 0.0037 - accuracy: 1.0000\n",
      "Epoch 34/50\n",
      "4/4 [==============================] - 6s 1s/step - loss: 0.0013 - accuracy: 1.0000\n",
      "Epoch 35/50\n",
      "4/4 [==============================] - 6s 1s/step - loss: 7.1827e-04 - accuracy: 1.0000\n",
      "Epoch 36/50\n",
      "4/4 [==============================] - 6s 1s/step - loss: 3.2289e-04 - accuracy: 1.0000\n",
      "Epoch 37/50\n",
      "4/4 [==============================] - 6s 1s/step - loss: 2.8171e-04 - accuracy: 1.0000\n",
      "Epoch 38/50\n",
      "4/4 [==============================] - 6s 1s/step - loss: 0.0018 - accuracy: 1.0000\n",
      "Epoch 39/50\n",
      "4/4 [==============================] - 6s 1s/step - loss: 6.3667e-04 - accuracy: 1.0000\n",
      "Epoch 40/50\n",
      "4/4 [==============================] - 6s 1s/step - loss: 0.0019 - accuracy: 1.0000\n",
      "Epoch 41/50\n",
      "4/4 [==============================] - 6s 1s/step - loss: 0.0040 - accuracy: 1.0000\n",
      "Epoch 42/50\n",
      "4/4 [==============================] - 6s 1s/step - loss: 8.0193e-04 - accuracy: 1.0000\n",
      "Epoch 43/50\n",
      "4/4 [==============================] - 5s 1s/step - loss: 2.8524e-04 - accuracy: 1.0000\n",
      "Epoch 44/50\n",
      "4/4 [==============================] - 5s 1s/step - loss: 5.1937e-05 - accuracy: 1.0000\n",
      "Epoch 45/50\n",
      "4/4 [==============================] - 5s 1s/step - loss: 1.3008e-04 - accuracy: 1.0000\n",
      "Epoch 46/50\n",
      "4/4 [==============================] - 6s 1s/step - loss: 0.0020 - accuracy: 1.0000\n",
      "Epoch 47/50\n",
      "4/4 [==============================] - 6s 1s/step - loss: 1.5786 - accuracy: 0.7812\n",
      "Epoch 48/50\n",
      "4/4 [==============================] - 6s 1s/step - loss: 0.1087 - accuracy: 0.9688\n",
      "Epoch 49/50\n",
      "4/4 [==============================] - 5s 1s/step - loss: 0.0091 - accuracy: 0.9896\n",
      "Epoch 50/50\n",
      "4/4 [==============================] - 6s 1s/step - loss: 7.5028e-04 - accuracy: 1.0000\n"
     ]
    },
    {
     "data": {
      "text/plain": [
       "<keras.callbacks.History at 0x1b24b7861c0>"
      ]
     },
     "execution_count": 268,
     "metadata": {},
     "output_type": "execute_result"
    }
   ],
   "source": [
    "import tensorflow as tf\n",
    "\n",
    "model_CNN_high = Sequential()\n",
    "model_CNN_high.add(Rescaling(1./255, input_shape=(img_height, img_width, 3)))\n",
    "model_CNN_high.add(Conv2D(48, (3,3), input_shape = x_train.shape[1:]))\n",
    "model_CNN_high.add(Activation(\"relu\"))\n",
    "model_CNN_high.add(MaxPooling2D(pool_size=(2,2)))\n",
    "\n",
    "model_CNN_high.add(Conv2D(48, (3,3)))\n",
    "model_CNN_high.add(Activation(\"relu\"))\n",
    "model_CNN_high.add(MaxPooling2D(pool_size=(2,2)))\n",
    "\n",
    "model_CNN_high.add(Flatten())\n",
    "model_CNN_high.add(Dense(48))\n",
    "\n",
    "model_CNN_high.add(Dense(train_generator.num_classes))\n",
    "model_CNN_high.add(Activation('Softmax'))\n",
    "\n",
    "tf.keras.optimizers.RMSprop(\n",
    "    learning_rate=0.001,\n",
    "    rho=2.5,\n",
    "    momentum=0.20,\n",
    "    epsilon=1e-07,\n",
    "    centered=False,\n",
    "    name=\"RMSprop\"\n",
    ")\n",
    "model_CNN_high.compile(loss='categorical_crossentropy',optimizer='RMSprop',metrics=['accuracy'])\n",
    "\n",
    "model_CNN_high.fit(train_generator, epochs = 50)\n"
   ]
  },
  {
   "cell_type": "code",
   "execution_count": 269,
   "id": "9fd1a92e",
   "metadata": {},
   "outputs": [
    {
     "name": "stdout",
     "output_type": "stream",
     "text": [
      "1/1 [==============================] - 0s 272ms/step - loss: 1.3295 - accuracy: 0.7500\n"
     ]
    },
    {
     "data": {
      "text/plain": [
       "[1.3295248746871948, 0.75]"
      ]
     },
     "execution_count": 269,
     "metadata": {},
     "output_type": "execute_result"
    }
   ],
   "source": [
    "model_CNN_high.evaluate(x_valid, y_valid)"
   ]
  },
  {
   "cell_type": "code",
   "execution_count": 304,
   "id": "f0a71f6d",
   "metadata": {},
   "outputs": [
    {
     "name": "stdout",
     "output_type": "stream",
     "text": [
      "1/1 [==============================] - 0s 256ms/step - loss: 1.9841 - accuracy: 0.7917\n"
     ]
    }
   ],
   "source": [
    "results = model_CNN_high.evaluate(x_test, y_test)"
   ]
  },
  {
   "cell_type": "code",
   "execution_count": 305,
   "id": "2efd26a6",
   "metadata": {},
   "outputs": [],
   "source": [
    "test_error.append(results[0])\n",
    "test_acc.append(results[1])"
   ]
  },
  {
   "cell_type": "code",
   "execution_count": 711,
   "id": "098a2961",
   "metadata": {},
   "outputs": [],
   "source": [
    "predictions_CNN_high = model_CNN_high.predict(x_test)"
   ]
  },
  {
   "cell_type": "code",
   "execution_count": 712,
   "id": "a2c4cf98",
   "metadata": {},
   "outputs": [
    {
     "name": "stderr",
     "output_type": "stream",
     "text": [
      "Clipping input data to the valid range for imshow with RGB data ([0..1] for floats or [0..255] for integers).\n"
     ]
    },
    {
     "name": "stdout",
     "output_type": "stream",
     "text": [
      "predicted_label =  2\n",
      "true_label in boolean list = [0.0, 0.0, 1.0, 0.0, 0.0, 0.0, 0.0, 0.0, 0.0, 0.0, 0.0, 0.0, 0.0, 0.0, 0.0, 0.0, 0.0, 0.0, 0.0, 0.0, 0.0, 0.0, 0.0, 0.0]\n",
      "true_label after converting to integer = 2\n"
     ]
    },
    {
     "data": {
      "image/png": "[encoded data removed]",
      "text/plain": [
       "<Figure size 1440x360 with 2 Axes>"
      ]
     },
     "metadata": {
      "needs_background": "light"
     },
     "output_type": "display_data"
    }
   ],
   "source": [
    "import numpy as np\n",
    "i = 0\n",
    "plt.figure(figsize=(20,5))\n",
    "plt.subplot(1,2,1)\n",
    "plot_image(i, predictions_CNN_high[i], y_test,x_test)\n",
    "plt.subplot(1,2,2)\n",
    "plot_prediction_array(i, predictions_CNN_high[i], y_test)\n",
    "plt.show()"
   ]
  },
  {
   "cell_type": "code",
   "execution_count": 713,
   "id": "5b5b6b52",
   "metadata": {},
   "outputs": [
    {
     "name": "stderr",
     "output_type": "stream",
     "text": [
      "Clipping input data to the valid range for imshow with RGB data ([0..1] for floats or [0..255] for integers).\n"
     ]
    },
    {
     "name": "stdout",
     "output_type": "stream",
     "text": [
      "predicted_label =  7\n",
      "true_label in boolean list = [0.0, 0.0, 0.0, 0.0, 0.0, 0.0, 0.0, 1.0, 0.0, 0.0, 0.0, 0.0, 0.0, 0.0, 0.0, 0.0, 0.0, 0.0, 0.0, 0.0, 0.0, 0.0, 0.0, 0.0]\n",
      "true_label after converting to integer = 7\n"
     ]
    },
    {
     "data": {
      "image/png": "[encoded data removed]",
      "text/plain": [
       "<Figure size 1440x360 with 2 Axes>"
      ]
     },
     "metadata": {
      "needs_background": "light"
     },
     "output_type": "display_data"
    }
   ],
   "source": [
    "import numpy as np\n",
    "i = 23\n",
    "plt.figure(figsize=(20,5))\n",
    "plt.subplot(1,2,1)\n",
    "plot_image(i, predictions_CNN_high[i], y_test,x_test)\n",
    "plt.subplot(1,2,2)\n",
    "plot_prediction_array(i, predictions_CNN_high[i], y_test)\n",
    "plt.show()"
   ]
  },
  {
   "cell_type": "markdown",
   "id": "01bdf5d9",
   "metadata": {},
   "source": [
    "# RNN with High quality greek letters dataset"
   ]
  },
  {
   "cell_type": "code",
   "execution_count": 295,
   "id": "777993a8",
   "metadata": {},
   "outputs": [
    {
     "name": "stdout",
     "output_type": "stream",
     "text": [
      "Epoch 1/50\n",
      "4/4 [==============================] - 4s 926ms/step - loss: 16841.7832 - accuracy: 0.0521\n",
      "Epoch 2/50\n",
      "4/4 [==============================] - 4s 888ms/step - loss: 6031.1187 - accuracy: 0.0938\n",
      "Epoch 3/50\n",
      "4/4 [==============================] - 4s 889ms/step - loss: 2568.8735 - accuracy: 0.1771\n",
      "Epoch 4/50\n",
      "4/4 [==============================] - 4s 895ms/step - loss: 2440.2275 - accuracy: 0.1771\n",
      "Epoch 5/50\n",
      "4/4 [==============================] - 4s 891ms/step - loss: 1414.7423 - accuracy: 0.2708\n",
      "Epoch 6/50\n",
      "4/4 [==============================] - 4s 909ms/step - loss: 1256.9408 - accuracy: 0.2396\n",
      "Epoch 7/50\n",
      "4/4 [==============================] - 4s 892ms/step - loss: 1470.7101 - accuracy: 0.2812\n",
      "Epoch 8/50\n",
      "4/4 [==============================] - 4s 893ms/step - loss: 1126.7865 - accuracy: 0.2812\n",
      "Epoch 9/50\n",
      "4/4 [==============================] - 4s 913ms/step - loss: 1231.3319 - accuracy: 0.2292\n",
      "Epoch 10/50\n",
      "4/4 [==============================] - 4s 915ms/step - loss: 810.3591 - accuracy: 0.3333\n",
      "Epoch 11/50\n",
      "4/4 [==============================] - 4s 895ms/step - loss: 1208.0743 - accuracy: 0.2396\n",
      "Epoch 12/50\n",
      "4/4 [==============================] - 4s 891ms/step - loss: 561.6578 - accuracy: 0.4167\n",
      "Epoch 13/50\n",
      "4/4 [==============================] - 4s 895ms/step - loss: 382.9081 - accuracy: 0.5208\n",
      "Epoch 14/50\n",
      "4/4 [==============================] - 4s 889ms/step - loss: 930.2835 - accuracy: 0.2188\n",
      "Epoch 15/50\n",
      "4/4 [==============================] - 4s 899ms/step - loss: 1123.2050 - accuracy: 0.2917\n",
      "Epoch 16/50\n",
      "4/4 [==============================] - 4s 897ms/step - loss: 698.4341 - accuracy: 0.4271\n",
      "Epoch 17/50\n",
      "4/4 [==============================] - 4s 898ms/step - loss: 444.5082 - accuracy: 0.4792\n",
      "Epoch 18/50\n",
      "4/4 [==============================] - 4s 892ms/step - loss: 588.8658 - accuracy: 0.4479\n",
      "Epoch 19/50\n",
      "4/4 [==============================] - 4s 889ms/step - loss: 580.9068 - accuracy: 0.3854\n",
      "Epoch 20/50\n",
      "4/4 [==============================] - 4s 892ms/step - loss: 447.8996 - accuracy: 0.4583\n",
      "Epoch 21/50\n",
      "4/4 [==============================] - 4s 888ms/step - loss: 321.5024 - accuracy: 0.6042\n",
      "Epoch 22/50\n",
      "4/4 [==============================] - 4s 898ms/step - loss: 368.1577 - accuracy: 0.6458\n",
      "Epoch 23/50\n",
      "4/4 [==============================] - 4s 909ms/step - loss: 769.8210 - accuracy: 0.3646\n",
      "Epoch 24/50\n",
      "4/4 [==============================] - 4s 901ms/step - loss: 725.5173 - accuracy: 0.4062\n",
      "Epoch 25/50\n",
      "4/4 [==============================] - 4s 906ms/step - loss: 435.7063 - accuracy: 0.5729\n",
      "Epoch 26/50\n",
      "4/4 [==============================] - 4s 895ms/step - loss: 288.4525 - accuracy: 0.6042\n",
      "Epoch 27/50\n",
      "4/4 [==============================] - 4s 891ms/step - loss: 474.9505 - accuracy: 0.4896\n",
      "Epoch 28/50\n",
      "4/4 [==============================] - 4s 890ms/step - loss: 218.0281 - accuracy: 0.7083\n",
      "Epoch 29/50\n",
      "4/4 [==============================] - 4s 890ms/step - loss: 182.8361 - accuracy: 0.7188\n",
      "Epoch 30/50\n",
      "4/4 [==============================] - 4s 893ms/step - loss: 135.6011 - accuracy: 0.7292\n",
      "Epoch 31/50\n",
      "4/4 [==============================] - 4s 896ms/step - loss: 402.3192 - accuracy: 0.5833\n",
      "Epoch 32/50\n",
      "4/4 [==============================] - 4s 904ms/step - loss: 559.5135 - accuracy: 0.5104\n",
      "Epoch 33/50\n",
      "4/4 [==============================] - 4s 895ms/step - loss: 279.2834 - accuracy: 0.6250\n",
      "Epoch 34/50\n",
      "4/4 [==============================] - 4s 891ms/step - loss: 302.8578 - accuracy: 0.6354\n",
      "Epoch 35/50\n",
      "4/4 [==============================] - 4s 893ms/step - loss: 416.6085 - accuracy: 0.6146\n",
      "Epoch 36/50\n",
      "4/4 [==============================] - 4s 891ms/step - loss: 174.9925 - accuracy: 0.7708\n",
      "Epoch 37/50\n",
      "4/4 [==============================] - 4s 890ms/step - loss: 422.5667 - accuracy: 0.6146\n",
      "Epoch 38/50\n",
      "4/4 [==============================] - 4s 889ms/step - loss: 149.8259 - accuracy: 0.7604\n",
      "Epoch 39/50\n",
      "4/4 [==============================] - 4s 895ms/step - loss: 375.4684 - accuracy: 0.6667\n",
      "Epoch 40/50\n",
      "4/4 [==============================] - 4s 890ms/step - loss: 307.8536 - accuracy: 0.6771\n",
      "Epoch 41/50\n",
      "4/4 [==============================] - 4s 897ms/step - loss: 367.0070 - accuracy: 0.5938\n",
      "Epoch 42/50\n",
      "4/4 [==============================] - 4s 935ms/step - loss: 89.9163 - accuracy: 0.8229\n",
      "Epoch 43/50\n",
      "4/4 [==============================] - 4s 894ms/step - loss: 135.8591 - accuracy: 0.8021\n",
      "Epoch 44/50\n",
      "4/4 [==============================] - 4s 886ms/step - loss: 330.2347 - accuracy: 0.6667\n",
      "Epoch 45/50\n",
      "4/4 [==============================] - 4s 890ms/step - loss: 714.2112 - accuracy: 0.6146\n",
      "Epoch 46/50\n",
      "4/4 [==============================] - 4s 900ms/step - loss: 107.7709 - accuracy: 0.8542\n",
      "Epoch 47/50\n",
      "4/4 [==============================] - 4s 899ms/step - loss: 161.0405 - accuracy: 0.7708\n",
      "Epoch 48/50\n",
      "4/4 [==============================] - 4s 900ms/step - loss: 497.3413 - accuracy: 0.6458\n",
      "Epoch 49/50\n",
      "4/4 [==============================] - 4s 902ms/step - loss: 510.2636 - accuracy: 0.6562\n",
      "Epoch 50/50\n",
      "4/4 [==============================] - 4s 891ms/step - loss: 301.5657 - accuracy: 0.6667\n"
     ]
    },
    {
     "data": {
      "text/plain": [
       "<keras.callbacks.History at 0x1b33103b1f0>"
      ]
     },
     "execution_count": 295,
     "metadata": {},
     "output_type": "execute_result"
    }
   ],
   "source": [
    "import tensorflow as tf\n",
    "from tensorflow.keras.models import Sequential\n",
    "from tensorflow.keras import layers\n",
    "from tensorflow.keras.layers import Dense, Dropout, Activation, Flatten, Conv2D, MaxPooling2D, BatchNormalization, GlobalAveragePooling2D, LSTM\n",
    "\n",
    "model_RNN = Sequential()\n",
    "model_RNN.add(Flatten(input_shape=(img_height, img_width, 3)))\n",
    "model_RNN.activation = 'softmax'\n",
    "model_RNN.add(Dense(48, activation='relu'))\n",
    "\n",
    "model_RNN.activation = 'softmax'\n",
    "model_RNN.add(Dense(48, activation='relu'))\n",
    "model_RNN.add(Dense(train_generator.num_classes, activation='softmax'))\n",
    "\n",
    "\n",
    "tf.keras.optimizers.RMSprop(\n",
    "    learning_rate=0.0001,\n",
    "    rho=2.0,\n",
    "    momentum=0.2,\n",
    "    epsilon=1e-07,\n",
    "    centered=False,\n",
    "    name=\"RMSprop\"\n",
    ")\n",
    "model_RNN.compile(loss='categorical_crossentropy',optimizer='RMSprop',metrics=['accuracy'])\n",
    "\n",
    "\n",
    "model_RNN.fit(train_generator, epochs=50)"
   ]
  },
  {
   "cell_type": "code",
   "execution_count": 296,
   "id": "66a6829d",
   "metadata": {},
   "outputs": [
    {
     "name": "stdout",
     "output_type": "stream",
     "text": [
      "1/1 [==============================] - 0s 143ms/step - loss: 582.1274 - accuracy: 0.4583\n"
     ]
    },
    {
     "data": {
      "text/plain": [
       "[582.12744140625, 0.4583333432674408]"
      ]
     },
     "execution_count": 296,
     "metadata": {},
     "output_type": "execute_result"
    }
   ],
   "source": [
    "model_RNN.evaluate(x_valid, y_valid, batch_size=24)"
   ]
  },
  {
   "cell_type": "code",
   "execution_count": 306,
   "id": "46fd922c",
   "metadata": {},
   "outputs": [
    {
     "name": "stdout",
     "output_type": "stream",
     "text": [
      "1/1 [==============================] - 0s 53ms/step - loss: 724.4832 - accuracy: 0.5417\n"
     ]
    }
   ],
   "source": [
    "results = model_RNN.evaluate(x_test, y_test, batch_size=24)"
   ]
  },
  {
   "cell_type": "code",
   "execution_count": 307,
   "id": "613ad5ef",
   "metadata": {},
   "outputs": [],
   "source": [
    "test_error.append(results[0])\n",
    "test_acc.append(results[1])"
   ]
  },
  {
   "cell_type": "code",
   "execution_count": 714,
   "id": "03c411d0",
   "metadata": {},
   "outputs": [],
   "source": [
    "predictions_RNN = model_RNN.predict(x_test)"
   ]
  },
  {
   "cell_type": "code",
   "execution_count": 715,
   "id": "7700e930",
   "metadata": {},
   "outputs": [
    {
     "name": "stderr",
     "output_type": "stream",
     "text": [
      "Clipping input data to the valid range for imshow with RGB data ([0..1] for floats or [0..255] for integers).\n"
     ]
    },
    {
     "name": "stdout",
     "output_type": "stream",
     "text": [
      "predicted_label =  23\n",
      "true_label in boolean list = [0.0, 0.0, 1.0, 0.0, 0.0, 0.0, 0.0, 0.0, 0.0, 0.0, 0.0, 0.0, 0.0, 0.0, 0.0, 0.0, 0.0, 0.0, 0.0, 0.0, 0.0, 0.0, 0.0, 0.0]\n",
      "true_label after converting to integer = 2\n"
     ]
    },
    {
     "data": {
      "image/png": "[encoded data removed]",
      "text/plain": [
       "<Figure size 1440x360 with 2 Axes>"
      ]
     },
     "metadata": {
      "needs_background": "light"
     },
     "output_type": "display_data"
    }
   ],
   "source": [
    "import numpy as np\n",
    "i = 0\n",
    "plt.figure(figsize=(20,5))\n",
    "plt.subplot(1,2,1)\n",
    "plot_image(i, predictions_RNN[i], y_test,x_test)\n",
    "plt.subplot(1,2,2)\n",
    "plot_prediction_array(i, predictions_RNN[i], y_test)\n",
    "plt.show()"
   ]
  },
  {
   "cell_type": "code",
   "execution_count": 716,
   "id": "76312c78",
   "metadata": {},
   "outputs": [
    {
     "name": "stderr",
     "output_type": "stream",
     "text": [
      "Clipping input data to the valid range for imshow with RGB data ([0..1] for floats or [0..255] for integers).\n"
     ]
    },
    {
     "name": "stdout",
     "output_type": "stream",
     "text": [
      "predicted_label =  7\n",
      "true_label in boolean list = [0.0, 0.0, 0.0, 0.0, 0.0, 0.0, 0.0, 1.0, 0.0, 0.0, 0.0, 0.0, 0.0, 0.0, 0.0, 0.0, 0.0, 0.0, 0.0, 0.0, 0.0, 0.0, 0.0, 0.0]\n",
      "true_label after converting to integer = 7\n"
     ]
    },
    {
     "data": {
      "image/png": "[encoded data removed]",
      "text/plain": [
       "<Figure size 1440x360 with 2 Axes>"
      ]
     },
     "metadata": {
      "needs_background": "light"
     },
     "output_type": "display_data"
    }
   ],
   "source": [
    "import numpy as np\n",
    "i = 23\n",
    "plt.figure(figsize=(20,5))\n",
    "plt.subplot(1,2,1)\n",
    "plot_image(i, predictions_RNN[i], y_test,x_test)\n",
    "plt.subplot(1,2,2)\n",
    "plot_prediction_array(i, predictions_RNN[i], y_test)\n",
    "plt.show()"
   ]
  },
  {
   "cell_type": "markdown",
   "id": "5ef0d111",
   "metadata": {},
   "source": [
    "# Splitting the dataset into 2 sets Train and Validation (Low Quality Dataset)"
   ]
  },
  {
   "cell_type": "code",
   "execution_count": 762,
   "id": "bb742c06",
   "metadata": {},
   "outputs": [],
   "source": [
    "input_folder = \"D:\\RHUL\\project\\Input_dataset_low\"\n",
    "output = \"D:\\RHUL\\project\\processed_data_low\"\n",
    "splitfolders.ratio(input_folder, output, seed=42, ratio=(0.6,0.4))"
   ]
  },
  {
   "cell_type": "code",
   "execution_count": 763,
   "id": "583df1b2",
   "metadata": {},
   "outputs": [],
   "source": [
    "CATEGORIES = [\"alpha\",\"beta\",\"chi\",\"delta\",\"epsilon\",\"eta\",\"gamma\",\"iota\",\"kappa\",\"lambda\",\"mu\",\"nu\",\"omega\",\"omicron\",\"phi\",\"pi\",\"psi\",\"rho\",\"sigma\",\"tau\",\"theta\",\"upsilon\",\"xi\",\"zeta\"]"
   ]
  },
  {
   "cell_type": "code",
   "execution_count": 764,
   "id": "59bb7160",
   "metadata": {},
   "outputs": [],
   "source": [
    "img_height, img_width = (224,224)\n",
    "batch_size = 24\n",
    "\n",
    "train_data_dir = r\"D:\\RHUL\\project\\processed_data_low\\train\"\n",
    "valid_data_dir = r\"D:\\RHUL\\project\\processed_data_low\\val\"\n",
    "test_data_dir = r\"D:\\RHUL\\project\\test_low\""
   ]
  },
  {
   "cell_type": "code",
   "execution_count": 765,
   "id": "5939e40d",
   "metadata": {},
   "outputs": [
    {
     "name": "stdout",
     "output_type": "stream",
     "text": [
      "Found 95 images belonging to 24 classes.\n",
      "Found 24 images belonging to 24 classes.\n"
     ]
    }
   ],
   "source": [
    "train_datagen = ImageDataGenerator(preprocessing_function=preprocess_input,\n",
    "                                  shear_range=0.2,\n",
    "                                  zoom_range=0.2,\n",
    "                                  horizontal_flip=False,\n",
    "                                  validation_split=0.4)\n",
    "\n",
    "train_generator = train_datagen.flow_from_directory(\n",
    "    train_data_dir,\n",
    "    target_size=(img_height, img_width),\n",
    "    batch_size=batch_size,\n",
    "    class_mode='categorical',\n",
    "    subset='training')\n",
    "\n",
    "valid_generator = train_datagen.flow_from_directory(\n",
    "    valid_data_dir,\n",
    "    target_size=(img_height, img_width),\n",
    "    batch_size=batch_size,\n",
    "    class_mode='categorical',\n",
    "    subset='validation')"
   ]
  },
  {
   "cell_type": "code",
   "execution_count": 766,
   "id": "18656c37",
   "metadata": {},
   "outputs": [],
   "source": [
    "x_train, y_train = train_generator.next()"
   ]
  },
  {
   "cell_type": "code",
   "execution_count": 767,
   "id": "956be774",
   "metadata": {},
   "outputs": [],
   "source": [
    "x_valid,y_valid = valid_generator.next()"
   ]
  },
  {
   "cell_type": "code",
   "execution_count": 768,
   "id": "49f5abd3",
   "metadata": {},
   "outputs": [
    {
     "name": "stdout",
     "output_type": "stream",
     "text": [
      "Found 96 images belonging to 24 classes.\n"
     ]
    }
   ],
   "source": [
    "test_datagen = ImageDataGenerator(preprocessing_function=preprocess_input,\n",
    "                                  shear_range=0.2,\n",
    "                                  zoom_range=0.2,\n",
    "                                  horizontal_flip=False)\n",
    "test_generator = test_datagen.flow_from_directory(\n",
    "    test_data_dir,\n",
    "    target_size=(img_height, img_width),\n",
    "    batch_size=batch_size,\n",
    "    class_mode='categorical')"
   ]
  },
  {
   "cell_type": "code",
   "execution_count": 769,
   "id": "ed30bc19",
   "metadata": {},
   "outputs": [
    {
     "data": {
      "text/plain": [
       "(24, 224, 224, 3)"
      ]
     },
     "execution_count": 769,
     "metadata": {},
     "output_type": "execute_result"
    }
   ],
   "source": [
    "x_test,y_test = test_generator.next()\n",
    "x_test.shape"
   ]
  },
  {
   "cell_type": "markdown",
   "id": "8cb4e629",
   "metadata": {},
   "source": [
    "# ResNet50 with Low quality greek letters dataset"
   ]
  },
  {
   "cell_type": "code",
   "execution_count": null,
   "id": "4efc1024",
   "metadata": {},
   "outputs": [],
   "source": [
    "low_test_error = []\n",
    "low_test_acc = []"
   ]
  },
  {
   "cell_type": "code",
   "execution_count": 331,
   "id": "9175e2cc",
   "metadata": {},
   "outputs": [
    {
     "name": "stdout",
     "output_type": "stream",
     "text": [
      "Epoch 1/50\n",
      "4/4 [==============================] - 13s 3s/step - loss: 5.2994 - accuracy: 0.0211\n",
      "Epoch 2/50\n",
      "4/4 [==============================] - 11s 3s/step - loss: 4.2836 - accuracy: 0.0421\n",
      "Epoch 3/50\n",
      "4/4 [==============================] - 11s 3s/step - loss: 3.1570 - accuracy: 0.2421\n",
      "Epoch 4/50\n",
      "4/4 [==============================] - 11s 3s/step - loss: 2.3496 - accuracy: 0.4842\n",
      "Epoch 5/50\n",
      "4/4 [==============================] - 11s 3s/step - loss: 1.8724 - accuracy: 0.5263\n",
      "Epoch 6/50\n",
      "4/4 [==============================] - 11s 3s/step - loss: 1.6872 - accuracy: 0.4526\n",
      "Epoch 7/50\n",
      "4/4 [==============================] - 11s 3s/step - loss: 1.2715 - accuracy: 0.7579\n",
      "Epoch 8/50\n",
      "4/4 [==============================] - 11s 3s/step - loss: 1.1935 - accuracy: 0.6947\n",
      "Epoch 9/50\n",
      "4/4 [==============================] - 11s 3s/step - loss: 0.9414 - accuracy: 0.8316\n",
      "Epoch 10/50\n",
      "4/4 [==============================] - 11s 3s/step - loss: 0.9158 - accuracy: 0.7789\n",
      "Epoch 11/50\n",
      "4/4 [==============================] - 11s 3s/step - loss: 0.7912 - accuracy: 0.8842\n",
      "Epoch 12/50\n",
      "4/4 [==============================] - 11s 3s/step - loss: 0.6278 - accuracy: 0.8947\n",
      "Epoch 13/50\n",
      "4/4 [==============================] - 11s 3s/step - loss: 0.6122 - accuracy: 0.9053\n",
      "Epoch 14/50\n",
      "4/4 [==============================] - 11s 3s/step - loss: 0.5499 - accuracy: 0.8632\n",
      "Epoch 15/50\n",
      "4/4 [==============================] - 11s 3s/step - loss: 0.5063 - accuracy: 0.9053\n",
      "Epoch 16/50\n",
      "4/4 [==============================] - 11s 3s/step - loss: 0.4428 - accuracy: 0.9158\n",
      "Epoch 17/50\n",
      "4/4 [==============================] - 11s 3s/step - loss: 0.3747 - accuracy: 0.9263\n",
      "Epoch 18/50\n",
      "4/4 [==============================] - 11s 3s/step - loss: 0.3634 - accuracy: 0.9684\n",
      "Epoch 19/50\n",
      "4/4 [==============================] - 11s 3s/step - loss: 0.3075 - accuracy: 0.9895\n",
      "Epoch 20/50\n",
      "4/4 [==============================] - 11s 3s/step - loss: 0.3419 - accuracy: 0.9368\n",
      "Epoch 21/50\n",
      "4/4 [==============================] - 11s 3s/step - loss: 0.2598 - accuracy: 0.9789\n",
      "Epoch 22/50\n",
      "4/4 [==============================] - 11s 3s/step - loss: 0.3037 - accuracy: 0.9579\n",
      "Epoch 23/50\n",
      "4/4 [==============================] - 11s 3s/step - loss: 0.2124 - accuracy: 0.9684\n",
      "Epoch 24/50\n",
      "4/4 [==============================] - 11s 3s/step - loss: 0.2603 - accuracy: 0.9474\n",
      "Epoch 25/50\n",
      "4/4 [==============================] - 11s 3s/step - loss: 0.2081 - accuracy: 0.9895\n",
      "Epoch 26/50\n",
      "4/4 [==============================] - 11s 3s/step - loss: 0.2108 - accuracy: 0.9895\n",
      "Epoch 27/50\n",
      "4/4 [==============================] - 11s 3s/step - loss: 0.2321 - accuracy: 0.9474\n",
      "Epoch 28/50\n",
      "4/4 [==============================] - 11s 3s/step - loss: 0.2021 - accuracy: 0.9474\n",
      "Epoch 29/50\n",
      "4/4 [==============================] - 11s 3s/step - loss: 0.1758 - accuracy: 0.9789\n",
      "Epoch 30/50\n",
      "4/4 [==============================] - 11s 3s/step - loss: 0.1358 - accuracy: 0.9895\n",
      "Epoch 31/50\n",
      "4/4 [==============================] - 11s 3s/step - loss: 0.1558 - accuracy: 0.9895\n",
      "Epoch 32/50\n",
      "4/4 [==============================] - 11s 3s/step - loss: 0.1357 - accuracy: 1.0000\n",
      "Epoch 33/50\n",
      "4/4 [==============================] - 11s 3s/step - loss: 0.1677 - accuracy: 0.9789\n",
      "Epoch 34/50\n",
      "4/4 [==============================] - 11s 3s/step - loss: 0.1453 - accuracy: 0.9789\n",
      "Epoch 35/50\n",
      "4/4 [==============================] - 11s 3s/step - loss: 0.1609 - accuracy: 0.9684\n",
      "Epoch 36/50\n",
      "4/4 [==============================] - 11s 3s/step - loss: 0.1394 - accuracy: 0.9789\n",
      "Epoch 37/50\n",
      "4/4 [==============================] - 11s 3s/step - loss: 0.1306 - accuracy: 0.9895\n",
      "Epoch 38/50\n",
      "4/4 [==============================] - 11s 3s/step - loss: 0.1278 - accuracy: 1.0000\n",
      "Epoch 39/50\n",
      "4/4 [==============================] - 11s 3s/step - loss: 0.0964 - accuracy: 0.9789\n",
      "Epoch 40/50\n",
      "4/4 [==============================] - 11s 3s/step - loss: 0.1336 - accuracy: 0.9684\n",
      "Epoch 41/50\n",
      "4/4 [==============================] - 11s 3s/step - loss: 0.1527 - accuracy: 0.9789\n",
      "Epoch 42/50\n",
      "4/4 [==============================] - 11s 3s/step - loss: 0.0881 - accuracy: 1.0000\n",
      "Epoch 43/50\n",
      "4/4 [==============================] - 11s 3s/step - loss: 0.1087 - accuracy: 0.9789\n",
      "Epoch 44/50\n",
      "4/4 [==============================] - 11s 3s/step - loss: 0.1427 - accuracy: 0.9684\n",
      "Epoch 45/50\n",
      "4/4 [==============================] - 11s 3s/step - loss: 0.1221 - accuracy: 0.9895\n",
      "Epoch 46/50\n",
      "4/4 [==============================] - 11s 3s/step - loss: 0.1035 - accuracy: 1.0000\n",
      "Epoch 47/50\n",
      "4/4 [==============================] - 11s 3s/step - loss: 0.1506 - accuracy: 0.9579\n",
      "Epoch 48/50\n",
      "4/4 [==============================] - 11s 3s/step - loss: 0.0714 - accuracy: 1.0000\n",
      "Epoch 49/50\n",
      "4/4 [==============================] - 11s 3s/step - loss: 0.0928 - accuracy: 0.9895\n",
      "Epoch 50/50\n",
      "4/4 [==============================] - 11s 3s/step - loss: 0.0749 - accuracy: 0.9895\n"
     ]
    },
    {
     "data": {
      "text/plain": [
       "<keras.callbacks.History at 0x1b3453b4cd0>"
      ]
     },
     "execution_count": 331,
     "metadata": {},
     "output_type": "execute_result"
    }
   ],
   "source": [
    "model = ResNet50(include_top=False, weights='imagenet')\n",
    "x = model.output\n",
    "x = GlobalAveragePooling2D()(x)\n",
    "x = Dense(1024, activation='relu')(x)\n",
    "predictions = Dense(train_generator.num_classes, activation='softmax')(x)\n",
    "model_ResNet50_low = Model(inputs=model.input, outputs=predictions)\n",
    "\n",
    "for layer in model.layers:\n",
    "    layer.trainable = False\n",
    "    \n",
    "model_ResNet50_low.compile(optimizer='adam', loss='categorical_crossentropy', metrics = ['accuracy'])\n",
    "\n",
    "model_ResNet50_low.fit(train_generator, epochs = 50)"
   ]
  },
  {
   "cell_type": "code",
   "execution_count": 471,
   "id": "1ecffadf",
   "metadata": {},
   "outputs": [
    {
     "name": "stdout",
     "output_type": "stream",
     "text": [
      "1/1 [==============================] - 7s 7s/step - loss: 0.5735 - accuracy: 0.7500\n"
     ]
    },
    {
     "data": {
      "text/plain": [
       "[0.5735424160957336, 0.75]"
      ]
     },
     "execution_count": 471,
     "metadata": {},
     "output_type": "execute_result"
    }
   ],
   "source": [
    "model_ResNet50_low.evaluate(x_valid, y_valid)"
   ]
  },
  {
   "cell_type": "code",
   "execution_count": 493,
   "id": "29367c81",
   "metadata": {},
   "outputs": [
    {
     "name": "stdout",
     "output_type": "stream",
     "text": [
      "1/1 [==============================] - 6s 6s/step - loss: 0.5684 - accuracy: 0.8750\n"
     ]
    }
   ],
   "source": [
    "results = model_ResNet50_low.evaluate(x_test, y_test)"
   ]
  },
  {
   "cell_type": "code",
   "execution_count": 494,
   "id": "3f97e05a",
   "metadata": {},
   "outputs": [],
   "source": [
    "low_test_error.append(results[0])\n",
    "low_test_acc.append(results[1])"
   ]
  },
  {
   "cell_type": "code",
   "execution_count": 770,
   "id": "a09b1556",
   "metadata": {},
   "outputs": [],
   "source": [
    "predictions = model_ResNet50_low.predict(x_test)"
   ]
  },
  {
   "cell_type": "code",
   "execution_count": 771,
   "id": "b14c95f3",
   "metadata": {},
   "outputs": [
    {
     "data": {
      "text/plain": [
       "8"
      ]
     },
     "execution_count": 771,
     "metadata": {},
     "output_type": "execute_result"
    }
   ],
   "source": [
    "np.argmax(predictions[0])"
   ]
  },
  {
   "cell_type": "code",
   "execution_count": 772,
   "id": "9614aa69",
   "metadata": {},
   "outputs": [
    {
     "data": {
      "text/plain": [
       "array([0., 0., 0., 0., 0., 0., 0., 0., 1., 0., 0., 0., 0., 0., 0., 0., 0.,\n",
       "       0., 0., 0., 0., 0., 0., 0.], dtype=float32)"
      ]
     },
     "execution_count": 772,
     "metadata": {},
     "output_type": "execute_result"
    }
   ],
   "source": [
    "y_test[0]"
   ]
  },
  {
   "cell_type": "code",
   "execution_count": 773,
   "id": "a2fee263",
   "metadata": {},
   "outputs": [],
   "source": [
    "def plot_image(i, predictions_array, true_label, img):\n",
    "    true_label, img = true_label[i], img[i]\n",
    "    plt.grid(False)\n",
    "    plt.xticks([])\n",
    "    plt.yticks([])\n",
    "    plt.imshow(img, cmap=plt.cm.binary)\n",
    "    predicted_label = np.argmax(predictions_array)\n",
    "    print(\"predicted_label = \",predicted_label)\n",
    "    l = list(true_label) \n",
    "    print(\"true_label in boolean list =\",l)\n",
    "    n = list(true_label).index(1)\n",
    "    print(\"true_label after converting to integer =\",n)\n",
    "    if predicted_label == n:\n",
    "        color = 'blue' \n",
    "    else:\n",
    "        color = 'red'\n",
    "\n",
    "    plt.xlabel(\"{} {:2.0f}% ({})\".format(CATEGORIES[predicted_label],\n",
    "                                100*np.max(predictions_array),\n",
    "                                CATEGORIES[n]),\n",
    "                                color=color)\n",
    "\n",
    "\n",
    "def plot_prediction_array(i, predictions_array, true_label):\n",
    "    true_label = any(true_label[i])\n",
    "    plt.grid(False)\n",
    "    plt.xticks(range(24))\n",
    "    plt.yticks([])\n",
    "    thisplot = plt.bar(range(24), predictions_array, color=\"blue\")\n",
    "    plt.ylim([0, 1])\n",
    "    predicted_label = np.argmax(predictions_array)"
   ]
  },
  {
   "cell_type": "code",
   "execution_count": 774,
   "id": "221ac617",
   "metadata": {},
   "outputs": [
    {
     "name": "stderr",
     "output_type": "stream",
     "text": [
      "Clipping input data to the valid range for imshow with RGB data ([0..1] for floats or [0..255] for integers).\n"
     ]
    },
    {
     "name": "stdout",
     "output_type": "stream",
     "text": [
      "predicted_label =  8\n",
      "true_label in boolean list = [0.0, 0.0, 0.0, 0.0, 0.0, 0.0, 0.0, 0.0, 1.0, 0.0, 0.0, 0.0, 0.0, 0.0, 0.0, 0.0, 0.0, 0.0, 0.0, 0.0, 0.0, 0.0, 0.0, 0.0]\n",
      "true_label after converting to integer = 8\n"
     ]
    },
    {
     "data": {
      "image/png": "[encoded data removed]",
      "text/plain": [
       "<Figure size 1440x360 with 2 Axes>"
      ]
     },
     "metadata": {
      "needs_background": "light"
     },
     "output_type": "display_data"
    }
   ],
   "source": [
    "import numpy as np\n",
    "i = 0\n",
    "plt.figure(figsize=(20,5))\n",
    "plt.subplot(1,2,1)\n",
    "plot_image(i, predictions[i], y_test,x_test)\n",
    "plt.subplot(1,2,2)\n",
    "plot_prediction_array(i, predictions[i], y_test)\n",
    "plt.show()"
   ]
  },
  {
   "cell_type": "code",
   "execution_count": 775,
   "id": "1d681dca",
   "metadata": {},
   "outputs": [
    {
     "name": "stderr",
     "output_type": "stream",
     "text": [
      "Clipping input data to the valid range for imshow with RGB data ([0..1] for floats or [0..255] for integers).\n"
     ]
    },
    {
     "name": "stdout",
     "output_type": "stream",
     "text": [
      "predicted_label =  11\n",
      "true_label in boolean list = [0.0, 0.0, 0.0, 0.0, 0.0, 0.0, 0.0, 0.0, 0.0, 0.0, 0.0, 1.0, 0.0, 0.0, 0.0, 0.0, 0.0, 0.0, 0.0, 0.0, 0.0, 0.0, 0.0, 0.0]\n",
      "true_label after converting to integer = 11\n"
     ]
    },
    {
     "data": {
      "image/png": "[encoded data removed]",
      "text/plain": [
       "<Figure size 1440x360 with 2 Axes>"
      ]
     },
     "metadata": {
      "needs_background": "light"
     },
     "output_type": "display_data"
    }
   ],
   "source": [
    "import numpy as np\n",
    "i = 23\n",
    "plt.figure(figsize=(20,5))\n",
    "plt.subplot(1,2,1)\n",
    "plot_image(i, predictions[i], y_test,x_test)\n",
    "plt.subplot(1,2,2)\n",
    "plot_prediction_array(i, predictions[i], y_test)\n",
    "plt.show()"
   ]
  },
  {
   "cell_type": "markdown",
   "id": "5ddc1971",
   "metadata": {},
   "source": [
    "# CNN with Low quality greek letters dataset"
   ]
  },
  {
   "cell_type": "code",
   "execution_count": 209,
   "id": "a698b634",
   "metadata": {},
   "outputs": [
    {
     "name": "stdout",
     "output_type": "stream",
     "text": [
      "Epoch 1/100\n",
      "4/4 [==============================] - 2s 508ms/step - loss: 4.0582 - accuracy: 0.1474\n",
      "Epoch 2/100\n",
      "4/4 [==============================] - 2s 490ms/step - loss: 2.9453 - accuracy: 0.1579\n",
      "Epoch 3/100\n",
      "4/4 [==============================] - 2s 496ms/step - loss: 2.1314 - accuracy: 0.4421\n",
      "Epoch 4/100\n",
      "4/4 [==============================] - 2s 499ms/step - loss: 1.3794 - accuracy: 0.5579\n",
      "Epoch 5/100\n",
      "4/4 [==============================] - 2s 505ms/step - loss: 0.8972 - accuracy: 0.7474\n",
      "Epoch 6/100\n",
      "4/4 [==============================] - 2s 504ms/step - loss: 0.8745 - accuracy: 0.7053\n",
      "Epoch 7/100\n",
      "4/4 [==============================] - 2s 492ms/step - loss: 0.5115 - accuracy: 0.8316\n",
      "Epoch 8/100\n",
      "4/4 [==============================] - 2s 493ms/step - loss: 0.5557 - accuracy: 0.8421\n",
      "Epoch 9/100\n",
      "4/4 [==============================] - 2s 498ms/step - loss: 0.4251 - accuracy: 0.9368\n",
      "Epoch 10/100\n",
      "4/4 [==============================] - 2s 504ms/step - loss: 0.4414 - accuracy: 0.8421\n",
      "Epoch 11/100\n",
      "4/4 [==============================] - 2s 502ms/step - loss: 0.1649 - accuracy: 0.9684\n",
      "Epoch 12/100\n",
      "4/4 [==============================] - 2s 494ms/step - loss: 0.3031 - accuracy: 0.9158\n",
      "Epoch 13/100\n",
      "4/4 [==============================] - 2s 498ms/step - loss: 0.4194 - accuracy: 0.8947\n",
      "Epoch 14/100\n",
      "4/4 [==============================] - 2s 495ms/step - loss: 0.1448 - accuracy: 0.9474\n",
      "Epoch 15/100\n",
      "4/4 [==============================] - 2s 497ms/step - loss: 0.1710 - accuracy: 0.9474\n",
      "Epoch 16/100\n",
      "4/4 [==============================] - 2s 507ms/step - loss: 0.1040 - accuracy: 0.9789\n",
      "Epoch 17/100\n",
      "4/4 [==============================] - 2s 493ms/step - loss: 0.2093 - accuracy: 0.8842\n",
      "Epoch 18/100\n",
      "4/4 [==============================] - 2s 500ms/step - loss: 0.1485 - accuracy: 0.9368\n",
      "Epoch 19/100\n",
      "4/4 [==============================] - 2s 499ms/step - loss: 0.0492 - accuracy: 0.9895\n",
      "Epoch 20/100\n",
      "4/4 [==============================] - 2s 512ms/step - loss: 0.0672 - accuracy: 0.9895\n",
      "Epoch 21/100\n",
      "4/4 [==============================] - 2s 500ms/step - loss: 0.0762 - accuracy: 0.9579\n",
      "Epoch 22/100\n",
      "4/4 [==============================] - 2s 494ms/step - loss: 0.0336 - accuracy: 0.9895\n",
      "Epoch 23/100\n",
      "4/4 [==============================] - 2s 506ms/step - loss: 0.0557 - accuracy: 0.9789\n",
      "Epoch 24/100\n",
      "4/4 [==============================] - 2s 505ms/step - loss: 0.0472 - accuracy: 1.0000\n",
      "Epoch 25/100\n",
      "4/4 [==============================] - 2s 499ms/step - loss: 0.2610 - accuracy: 0.9263\n",
      "Epoch 26/100\n",
      "4/4 [==============================] - 2s 489ms/step - loss: 0.0510 - accuracy: 0.9895\n",
      "Epoch 27/100\n",
      "4/4 [==============================] - 2s 490ms/step - loss: 0.0343 - accuracy: 0.9895\n",
      "Epoch 28/100\n",
      "4/4 [==============================] - 2s 497ms/step - loss: 0.0249 - accuracy: 0.9895\n",
      "Epoch 29/100\n",
      "4/4 [==============================] - 2s 499ms/step - loss: 0.0094 - accuracy: 1.0000\n",
      "Epoch 30/100\n",
      "4/4 [==============================] - 2s 499ms/step - loss: 0.0128 - accuracy: 1.0000\n",
      "Epoch 31/100\n",
      "4/4 [==============================] - 2s 489ms/step - loss: 0.0856 - accuracy: 0.9684\n",
      "Epoch 32/100\n",
      "4/4 [==============================] - 2s 498ms/step - loss: 0.0289 - accuracy: 0.9895\n",
      "Epoch 33/100\n",
      "4/4 [==============================] - 2s 495ms/step - loss: 0.0023 - accuracy: 1.0000\n",
      "Epoch 34/100\n",
      "4/4 [==============================] - 2s 498ms/step - loss: 0.2216 - accuracy: 0.9263\n",
      "Epoch 35/100\n",
      "4/4 [==============================] - 2s 510ms/step - loss: 0.1073 - accuracy: 0.9684\n",
      "Epoch 36/100\n",
      "4/4 [==============================] - 2s 482ms/step - loss: 0.0103 - accuracy: 1.0000\n",
      "Epoch 37/100\n",
      "4/4 [==============================] - 2s 487ms/step - loss: 0.0048 - accuracy: 1.0000\n",
      "Epoch 38/100\n",
      "4/4 [==============================] - 2s 482ms/step - loss: 0.0017 - accuracy: 1.0000\n",
      "Epoch 39/100\n",
      "4/4 [==============================] - 2s 488ms/step - loss: 0.0014 - accuracy: 1.0000\n",
      "Epoch 40/100\n",
      "4/4 [==============================] - 2s 501ms/step - loss: 0.0027 - accuracy: 1.0000\n",
      "Epoch 41/100\n",
      "4/4 [==============================] - 2s 502ms/step - loss: 0.0045 - accuracy: 1.0000\n",
      "Epoch 42/100\n",
      "4/4 [==============================] - 2s 485ms/step - loss: 0.0297 - accuracy: 0.9895\n",
      "Epoch 43/100\n",
      "4/4 [==============================] - 2s 494ms/step - loss: 0.0616 - accuracy: 0.9895\n",
      "Epoch 44/100\n",
      "4/4 [==============================] - 2s 487ms/step - loss: 0.0221 - accuracy: 0.9895\n",
      "Epoch 45/100\n",
      "4/4 [==============================] - 2s 498ms/step - loss: 0.0314 - accuracy: 0.9895\n",
      "Epoch 46/100\n",
      "4/4 [==============================] - 2s 499ms/step - loss: 0.0038 - accuracy: 1.0000\n",
      "Epoch 47/100\n",
      "4/4 [==============================] - 2s 480ms/step - loss: 0.0051 - accuracy: 1.0000\n",
      "Epoch 48/100\n",
      "4/4 [==============================] - 2s 491ms/step - loss: 0.0214 - accuracy: 0.9895\n",
      "Epoch 49/100\n",
      "4/4 [==============================] - 2s 494ms/step - loss: 0.0732 - accuracy: 0.9789\n",
      "Epoch 50/100\n",
      "4/4 [==============================] - 2s 494ms/step - loss: 0.0068 - accuracy: 1.0000\n",
      "Epoch 51/100\n",
      "4/4 [==============================] - 2s 500ms/step - loss: 0.0012 - accuracy: 1.0000\n",
      "Epoch 52/100\n",
      "4/4 [==============================] - 2s 481ms/step - loss: 3.5769e-04 - accuracy: 1.0000\n",
      "Epoch 53/100\n",
      "4/4 [==============================] - 2s 480ms/step - loss: 0.0068 - accuracy: 1.0000\n",
      "Epoch 54/100\n",
      "4/4 [==============================] - 2s 485ms/step - loss: 0.0014 - accuracy: 1.0000\n",
      "Epoch 55/100\n",
      "4/4 [==============================] - 2s 486ms/step - loss: 5.8294e-04 - accuracy: 1.0000\n",
      "Epoch 56/100\n",
      "4/4 [==============================] - 2s 498ms/step - loss: 2.6432e-04 - accuracy: 1.0000\n",
      "Epoch 57/100\n",
      "4/4 [==============================] - 2s 494ms/step - loss: 0.0538 - accuracy: 0.9789\n",
      "Epoch 58/100\n",
      "4/4 [==============================] - 2s 482ms/step - loss: 0.0385 - accuracy: 0.9895\n",
      "Epoch 59/100\n",
      "4/4 [==============================] - 2s 484ms/step - loss: 0.0075 - accuracy: 1.0000\n",
      "Epoch 60/100\n",
      "4/4 [==============================] - 2s 480ms/step - loss: 0.0031 - accuracy: 1.0000\n",
      "Epoch 61/100\n",
      "4/4 [==============================] - 2s 495ms/step - loss: 0.0030 - accuracy: 1.0000\n",
      "Epoch 62/100\n",
      "4/4 [==============================] - 2s 493ms/step - loss: 2.7794e-04 - accuracy: 1.0000\n",
      "Epoch 63/100\n",
      "4/4 [==============================] - 2s 487ms/step - loss: 1.6889e-04 - accuracy: 1.0000\n",
      "Epoch 64/100\n",
      "4/4 [==============================] - 2s 481ms/step - loss: 7.8741e-04 - accuracy: 1.0000\n",
      "Epoch 65/100\n",
      "4/4 [==============================] - 2s 485ms/step - loss: 5.7342e-04 - accuracy: 1.0000\n",
      "Epoch 66/100\n",
      "4/4 [==============================] - 2s 493ms/step - loss: 2.5055e-04 - accuracy: 1.0000\n",
      "Epoch 67/100\n",
      "4/4 [==============================] - 2s 488ms/step - loss: 4.9488e-05 - accuracy: 1.0000\n",
      "Epoch 68/100\n",
      "4/4 [==============================] - 2s 495ms/step - loss: 6.4111e-05 - accuracy: 1.0000\n",
      "Epoch 69/100\n",
      "4/4 [==============================] - 2s 493ms/step - loss: 2.7687e-04 - accuracy: 1.0000\n",
      "Epoch 70/100\n",
      "4/4 [==============================] - 2s 492ms/step - loss: 1.8946e-04 - accuracy: 1.0000\n",
      "Epoch 71/100\n",
      "4/4 [==============================] - 2s 491ms/step - loss: 5.1391e-04 - accuracy: 1.0000\n",
      "Epoch 72/100\n",
      "4/4 [==============================] - 2s 487ms/step - loss: 4.2698e-04 - accuracy: 1.0000\n",
      "Epoch 73/100\n",
      "4/4 [==============================] - 2s 498ms/step - loss: 0.0565 - accuracy: 0.9895\n",
      "Epoch 74/100\n",
      "4/4 [==============================] - 2s 499ms/step - loss: 0.0929 - accuracy: 0.9789\n",
      "Epoch 75/100\n",
      "4/4 [==============================] - 2s 488ms/step - loss: 3.6068e-04 - accuracy: 1.0000\n",
      "Epoch 76/100\n",
      "4/4 [==============================] - 2s 486ms/step - loss: 0.0322 - accuracy: 0.9895\n",
      "Epoch 77/100\n",
      "4/4 [==============================] - 2s 490ms/step - loss: 0.0079 - accuracy: 1.0000\n",
      "Epoch 78/100\n",
      "4/4 [==============================] - 2s 487ms/step - loss: 2.0866e-04 - accuracy: 1.0000\n",
      "Epoch 79/100\n",
      "4/4 [==============================] - 2s 498ms/step - loss: 1.2104e-04 - accuracy: 1.0000\n",
      "Epoch 80/100\n",
      "4/4 [==============================] - 2s 485ms/step - loss: 6.5817e-05 - accuracy: 1.0000\n",
      "Epoch 81/100\n",
      "4/4 [==============================] - 2s 485ms/step - loss: 2.5554e-04 - accuracy: 1.0000\n",
      "Epoch 82/100\n",
      "4/4 [==============================] - 2s 486ms/step - loss: 3.7392e-05 - accuracy: 1.0000\n",
      "Epoch 83/100\n",
      "4/4 [==============================] - 2s 483ms/step - loss: 1.5061e-04 - accuracy: 1.0000\n",
      "Epoch 84/100\n",
      "4/4 [==============================] - 2s 488ms/step - loss: 1.5025e-04 - accuracy: 1.0000\n",
      "Epoch 85/100\n",
      "4/4 [==============================] - 2s 499ms/step - loss: 6.9796e-05 - accuracy: 1.0000\n",
      "Epoch 86/100\n",
      "4/4 [==============================] - 2s 479ms/step - loss: 1.3714e-05 - accuracy: 1.0000\n",
      "Epoch 87/100\n",
      "4/4 [==============================] - 2s 496ms/step - loss: 8.7152e-05 - accuracy: 1.0000\n",
      "Epoch 88/100\n",
      "4/4 [==============================] - 2s 483ms/step - loss: 3.7430e-05 - accuracy: 1.0000\n",
      "Epoch 89/100\n",
      "4/4 [==============================] - 2s 495ms/step - loss: 4.1428e-05 - accuracy: 1.0000\n",
      "Epoch 90/100\n",
      "4/4 [==============================] - 2s 494ms/step - loss: 8.9932e-06 - accuracy: 1.0000\n",
      "Epoch 91/100\n",
      "4/4 [==============================] - 2s 485ms/step - loss: 1.0525e-04 - accuracy: 1.0000\n",
      "Epoch 92/100\n",
      "4/4 [==============================] - 2s 482ms/step - loss: 0.1065 - accuracy: 0.9895\n",
      "Epoch 93/100\n",
      "4/4 [==============================] - 2s 487ms/step - loss: 9.7174e-05 - accuracy: 1.0000\n",
      "Epoch 94/100\n",
      "4/4 [==============================] - 2s 478ms/step - loss: 2.3468e-04 - accuracy: 1.0000\n",
      "Epoch 95/100\n",
      "4/4 [==============================] - 2s 485ms/step - loss: 0.0055 - accuracy: 1.0000\n",
      "Epoch 96/100\n",
      "4/4 [==============================] - 2s 490ms/step - loss: 3.3298e-04 - accuracy: 1.0000\n",
      "Epoch 97/100\n",
      "4/4 [==============================] - 2s 494ms/step - loss: 1.3187e-04 - accuracy: 1.0000\n",
      "Epoch 98/100\n",
      "4/4 [==============================] - 2s 481ms/step - loss: 3.6831e-05 - accuracy: 1.0000\n",
      "Epoch 99/100\n",
      "4/4 [==============================] - 2s 484ms/step - loss: 5.7821e-05 - accuracy: 1.0000\n",
      "Epoch 100/100\n",
      "4/4 [==============================] - 2s 482ms/step - loss: 2.7300e-05 - accuracy: 1.0000\n"
     ]
    },
    {
     "data": {
      "text/plain": [
       "<keras.callbacks.History at 0x1b312f86490>"
      ]
     },
     "execution_count": 209,
     "metadata": {},
     "output_type": "execute_result"
    }
   ],
   "source": [
    "import tensorflow as tf\n",
    "\n",
    "model_CNN= Sequential()\n",
    "model_CNN.add(Rescaling(1./255, input_shape=(img_height, img_width, 3)))\n",
    "model_CNN.add(Conv2D(48, (3,3)))\n",
    "model_CNN.add(Activation(\"relu\"))\n",
    "model_CNN.add(MaxPooling2D(pool_size=(3,3)))\n",
    "\n",
    "model_CNN.add(Conv2D(48, (3,3)))\n",
    "model_CNN.add(Activation(\"relu\"))\n",
    "model_CNN.add(MaxPooling2D(pool_size=(3,3)))\n",
    "\n",
    "model_CNN.add(Flatten())\n",
    "\n",
    "model_CNN.add(Dense(24))\n",
    "model_CNN.add(Activation('sigmoid'))\n",
    "\n",
    "tf.keras.optimizers.RMSprop(\n",
    "    learning_rate=0.0001,\n",
    "    rho=30.5,\n",
    "    momentum=0.30,\n",
    "    epsilon=1e-07,\n",
    "    centered=False,\n",
    "    name=\"RMSprop\"\n",
    ")\n",
    "\n",
    "model_CNN.compile(optimizer='RMSprop', loss='categorical_crossentropy', metrics = ['accuracy'])\n",
    "\n",
    "model_CNN.fit(train_generator, epochs = 100)"
   ]
  },
  {
   "cell_type": "code",
   "execution_count": 210,
   "id": "4202a38d",
   "metadata": {},
   "outputs": [
    {
     "name": "stdout",
     "output_type": "stream",
     "text": [
      "1/1 [==============================] - 0s 195ms/step - loss: 1.0628 - accuracy: 0.7917\n"
     ]
    },
    {
     "data": {
      "text/plain": [
       "[1.062839150428772, 0.7916666865348816]"
      ]
     },
     "execution_count": 210,
     "metadata": {},
     "output_type": "execute_result"
    }
   ],
   "source": [
    "model_CNN.evaluate(x_valid, y_valid)"
   ]
  },
  {
   "cell_type": "code",
   "execution_count": 502,
   "id": "943c78aa",
   "metadata": {},
   "outputs": [
    {
     "name": "stdout",
     "output_type": "stream",
     "text": [
      "1/1 [==============================] - 0s 237ms/step - loss: 2.6235 - accuracy: 0.7083\n"
     ]
    }
   ],
   "source": [
    "results = model_CNN.evaluate(x_test, y_test)"
   ]
  },
  {
   "cell_type": "code",
   "execution_count": 503,
   "id": "1584a67e",
   "metadata": {},
   "outputs": [],
   "source": [
    "low_test_error.append(results[0])\n",
    "low_test_acc.append(results[1])"
   ]
  },
  {
   "cell_type": "code",
   "execution_count": 776,
   "id": "cd37aed6",
   "metadata": {},
   "outputs": [],
   "source": [
    "predictions_CNN_low = model_CNN.predict(x_test)"
   ]
  },
  {
   "cell_type": "code",
   "execution_count": 777,
   "id": "25499342",
   "metadata": {},
   "outputs": [
    {
     "name": "stderr",
     "output_type": "stream",
     "text": [
      "Clipping input data to the valid range for imshow with RGB data ([0..1] for floats or [0..255] for integers).\n"
     ]
    },
    {
     "name": "stdout",
     "output_type": "stream",
     "text": [
      "predicted_label =  8\n",
      "true_label in boolean list = [0.0, 0.0, 0.0, 0.0, 0.0, 0.0, 0.0, 0.0, 1.0, 0.0, 0.0, 0.0, 0.0, 0.0, 0.0, 0.0, 0.0, 0.0, 0.0, 0.0, 0.0, 0.0, 0.0, 0.0]\n",
      "true_label after converting to integer = 8\n"
     ]
    },
    {
     "data": {
      "image/png": "[encoded data removed]",
      "text/plain": [
       "<Figure size 1440x360 with 2 Axes>"
      ]
     },
     "metadata": {
      "needs_background": "light"
     },
     "output_type": "display_data"
    }
   ],
   "source": [
    "import numpy as np\n",
    "i = 0\n",
    "plt.figure(figsize=(20,5))\n",
    "plt.subplot(1,2,1)\n",
    "plot_image(i, predictions_CNN_low[i], y_test,x_test)\n",
    "plt.subplot(1,2,2)\n",
    "plot_prediction_array(i, predictions_CNN_low[i], y_test)\n",
    "plt.show()"
   ]
  },
  {
   "cell_type": "code",
   "execution_count": 778,
   "id": "3f9f0acc",
   "metadata": {},
   "outputs": [
    {
     "name": "stderr",
     "output_type": "stream",
     "text": [
      "Clipping input data to the valid range for imshow with RGB data ([0..1] for floats or [0..255] for integers).\n"
     ]
    },
    {
     "name": "stdout",
     "output_type": "stream",
     "text": [
      "predicted_label =  11\n",
      "true_label in boolean list = [0.0, 0.0, 0.0, 0.0, 0.0, 0.0, 0.0, 0.0, 0.0, 0.0, 0.0, 1.0, 0.0, 0.0, 0.0, 0.0, 0.0, 0.0, 0.0, 0.0, 0.0, 0.0, 0.0, 0.0]\n",
      "true_label after converting to integer = 11\n"
     ]
    },
    {
     "data": {
      "image/png": "[encoded data removed]",
      "text/plain": [
       "<Figure size 1440x360 with 2 Axes>"
      ]
     },
     "metadata": {
      "needs_background": "light"
     },
     "output_type": "display_data"
    }
   ],
   "source": [
    "import numpy as np\n",
    "i = 23\n",
    "plt.figure(figsize=(20,5))\n",
    "plt.subplot(1,2,1)\n",
    "plot_image(i, predictions_CNN_low[i], y_test,x_test)\n",
    "plt.subplot(1,2,2)\n",
    "plot_prediction_array(i, predictions_CNN_low[i], y_test)\n",
    "plt.show()"
   ]
  },
  {
   "cell_type": "markdown",
   "id": "2518f890",
   "metadata": {},
   "source": [
    "# RNN with Low quality greek letters dataset"
   ]
  },
  {
   "cell_type": "code",
   "execution_count": 570,
   "id": "df8ac8b1",
   "metadata": {},
   "outputs": [
    {
     "name": "stdout",
     "output_type": "stream",
     "text": [
      "Epoch 1/50\n",
      "4/4 [==============================] - 1s 233ms/step - loss: 12462.0342 - accuracy: 0.0316\n",
      "Epoch 2/50\n",
      "4/4 [==============================] - 1s 235ms/step - loss: 8261.6650 - accuracy: 0.0632\n",
      "Epoch 3/50\n",
      "4/4 [==============================] - 1s 235ms/step - loss: 3252.9612 - accuracy: 0.1158\n",
      "Epoch 4/50\n",
      "4/4 [==============================] - 1s 245ms/step - loss: 3517.0027 - accuracy: 0.1263\n",
      "Epoch 5/50\n",
      "4/4 [==============================] - 1s 241ms/step - loss: 2043.9796 - accuracy: 0.2316\n",
      "Epoch 6/50\n",
      "4/4 [==============================] - 1s 240ms/step - loss: 1737.8696 - accuracy: 0.1789\n",
      "Epoch 7/50\n",
      "4/4 [==============================] - 1s 233ms/step - loss: 1358.2909 - accuracy: 0.2632\n",
      "Epoch 8/50\n",
      "4/4 [==============================] - 1s 238ms/step - loss: 1551.6881 - accuracy: 0.2105\n",
      "Epoch 9/50\n",
      "4/4 [==============================] - 1s 236ms/step - loss: 1099.5245 - accuracy: 0.3474\n",
      "Epoch 10/50\n",
      "4/4 [==============================] - 1s 238ms/step - loss: 1865.8663 - accuracy: 0.2842\n",
      "Epoch 11/50\n",
      "4/4 [==============================] - 1s 237ms/step - loss: 881.5987 - accuracy: 0.4105\n",
      "Epoch 12/50\n",
      "4/4 [==============================] - 1s 236ms/step - loss: 848.5829 - accuracy: 0.4316\n",
      "Epoch 13/50\n",
      "4/4 [==============================] - 1s 239ms/step - loss: 517.3795 - accuracy: 0.4737\n",
      "Epoch 14/50\n",
      "4/4 [==============================] - 1s 239ms/step - loss: 535.9836 - accuracy: 0.4842\n",
      "Epoch 15/50\n",
      "4/4 [==============================] - 1s 235ms/step - loss: 1820.8513 - accuracy: 0.2421\n",
      "Epoch 16/50\n",
      "4/4 [==============================] - 1s 241ms/step - loss: 1376.3654 - accuracy: 0.3158\n",
      "Epoch 17/50\n",
      "4/4 [==============================] - 1s 242ms/step - loss: 665.9142 - accuracy: 0.5263\n",
      "Epoch 18/50\n",
      "4/4 [==============================] - 1s 244ms/step - loss: 573.8660 - accuracy: 0.5684\n",
      "Epoch 19/50\n",
      "4/4 [==============================] - 1s 239ms/step - loss: 494.5859 - accuracy: 0.5368\n",
      "Epoch 20/50\n",
      "4/4 [==============================] - 1s 239ms/step - loss: 559.2770 - accuracy: 0.5368\n",
      "Epoch 21/50\n",
      "4/4 [==============================] - 1s 239ms/step - loss: 616.0207 - accuracy: 0.5263\n",
      "Epoch 22/50\n",
      "4/4 [==============================] - 1s 238ms/step - loss: 413.4484 - accuracy: 0.6000\n",
      "Epoch 23/50\n",
      "4/4 [==============================] - 1s 242ms/step - loss: 690.4730 - accuracy: 0.5789\n",
      "Epoch 24/50\n",
      "4/4 [==============================] - 1s 256ms/step - loss: 434.5891 - accuracy: 0.6526\n",
      "Epoch 25/50\n",
      "4/4 [==============================] - 1s 247ms/step - loss: 429.5898 - accuracy: 0.6105\n",
      "Epoch 26/50\n",
      "4/4 [==============================] - 1s 243ms/step - loss: 508.9213 - accuracy: 0.6211\n",
      "Epoch 27/50\n",
      "4/4 [==============================] - 1s 235ms/step - loss: 940.6783 - accuracy: 0.4737\n",
      "Epoch 28/50\n",
      "4/4 [==============================] - 1s 237ms/step - loss: 277.9423 - accuracy: 0.7579\n",
      "Epoch 29/50\n",
      "4/4 [==============================] - 1s 237ms/step - loss: 318.5855 - accuracy: 0.7158\n",
      "Epoch 30/50\n",
      "4/4 [==============================] - 1s 241ms/step - loss: 379.7076 - accuracy: 0.6105\n",
      "Epoch 31/50\n",
      "4/4 [==============================] - 1s 234ms/step - loss: 379.6814 - accuracy: 0.6526\n",
      "Epoch 32/50\n",
      "4/4 [==============================] - 1s 240ms/step - loss: 1169.4558 - accuracy: 0.3789\n",
      "Epoch 33/50\n",
      "4/4 [==============================] - 1s 249ms/step - loss: 254.9391 - accuracy: 0.7368\n",
      "Epoch 34/50\n",
      "4/4 [==============================] - 1s 245ms/step - loss: 177.9148 - accuracy: 0.7895\n",
      "Epoch 35/50\n",
      "4/4 [==============================] - 1s 237ms/step - loss: 163.5721 - accuracy: 0.8421\n",
      "Epoch 36/50\n",
      "4/4 [==============================] - 1s 232ms/step - loss: 371.6071 - accuracy: 0.6526\n",
      "Epoch 37/50\n",
      "4/4 [==============================] - 1s 236ms/step - loss: 833.0671 - accuracy: 0.5158\n",
      "Epoch 38/50\n",
      "4/4 [==============================] - 1s 236ms/step - loss: 260.7779 - accuracy: 0.7579\n",
      "Epoch 39/50\n",
      "4/4 [==============================] - 1s 235ms/step - loss: 362.5838 - accuracy: 0.7368\n",
      "Epoch 40/50\n",
      "4/4 [==============================] - 1s 244ms/step - loss: 210.8450 - accuracy: 0.7579\n",
      "Epoch 41/50\n",
      "4/4 [==============================] - 1s 235ms/step - loss: 523.9297 - accuracy: 0.6737\n",
      "Epoch 42/50\n",
      "4/4 [==============================] - 1s 239ms/step - loss: 495.4648 - accuracy: 0.6842\n",
      "Epoch 43/50\n",
      "4/4 [==============================] - 1s 239ms/step - loss: 258.0662 - accuracy: 0.7263\n",
      "Epoch 44/50\n",
      "4/4 [==============================] - 1s 236ms/step - loss: 610.8329 - accuracy: 0.6632\n",
      "Epoch 45/50\n",
      "4/4 [==============================] - 1s 241ms/step - loss: 241.6738 - accuracy: 0.8421\n",
      "Epoch 46/50\n",
      "4/4 [==============================] - 1s 236ms/step - loss: 318.3769 - accuracy: 0.7263\n",
      "Epoch 47/50\n",
      "4/4 [==============================] - 1s 242ms/step - loss: 231.5719 - accuracy: 0.7684\n",
      "Epoch 48/50\n",
      "4/4 [==============================] - 1s 235ms/step - loss: 393.5425 - accuracy: 0.7368\n",
      "Epoch 49/50\n",
      "4/4 [==============================] - 1s 241ms/step - loss: 99.4605 - accuracy: 0.8842\n",
      "Epoch 50/50\n",
      "4/4 [==============================] - 1s 253ms/step - loss: 69.5099 - accuracy: 0.8842\n"
     ]
    },
    {
     "data": {
      "text/plain": [
       "<keras.callbacks.History at 0x1b39cc122b0>"
      ]
     },
     "execution_count": 570,
     "metadata": {},
     "output_type": "execute_result"
    }
   ],
   "source": [
    "import tensorflow as tf\n",
    "from tensorflow.keras.models import Sequential\n",
    "from tensorflow.keras import layers\n",
    "from tensorflow.keras.layers import Dense, Dropout, Activation, Flatten, Conv2D, MaxPooling2D, BatchNormalization, GlobalAveragePooling2D, LSTM\n",
    "\n",
    "model_RNN_low = Sequential()\n",
    "model_RNN_low.add(Flatten(input_shape=x_train.shape[1:]))\n",
    "model_RNN_low.activation = 'relu'\n",
    "model_RNN_low.activation = 'sigmoig'\n",
    "model_RNN_low.add(Dense(48, activation='relu'))\n",
    "\n",
    "model_RNN_low.activation = 'softmax'\n",
    "model_RNN_low.add(Dense(48, activation='relu'))\n",
    "model_RNN_low.add(Dense(train_generator.num_classes, activation='softmax'))\n",
    "\n",
    "tf.keras.optimizers.RMSprop(\n",
    "    learning_rate=0.001,\n",
    "    rho=2.0,\n",
    "    momentum=0.2,\n",
    "    epsilon=1e-07,\n",
    "    centered=False,\n",
    "    name=\"RMSprop\"\n",
    ")\n",
    "model_RNN_low.compile(loss='categorical_crossentropy',optimizer='RMSprop',metrics=['accuracy'])\n",
    "\n",
    "\n",
    "\n",
    "model_RNN_low.fit(train_generator, epochs=50)"
   ]
  },
  {
   "cell_type": "code",
   "execution_count": 571,
   "id": "310ee285",
   "metadata": {},
   "outputs": [
    {
     "name": "stdout",
     "output_type": "stream",
     "text": [
      "1/1 [==============================] - 0s 99ms/step - loss: 736.7020 - accuracy: 0.4583\n"
     ]
    },
    {
     "data": {
      "text/plain": [
       "[736.7019653320312, 0.4583333432674408]"
      ]
     },
     "execution_count": 571,
     "metadata": {},
     "output_type": "execute_result"
    }
   ],
   "source": [
    "model_RNN_low.evaluate(x_valid, y_valid)"
   ]
  },
  {
   "cell_type": "code",
   "execution_count": 572,
   "id": "d4b1ac1e",
   "metadata": {},
   "outputs": [
    {
     "name": "stdout",
     "output_type": "stream",
     "text": [
      "1/1 [==============================] - 0s 42ms/step - loss: 1069.0248 - accuracy: 0.5417\n"
     ]
    }
   ],
   "source": [
    "results = model_RNN_low.evaluate(x_test, y_test)"
   ]
  },
  {
   "cell_type": "code",
   "execution_count": 573,
   "id": "b3285388",
   "metadata": {},
   "outputs": [
    {
     "data": {
      "text/plain": [
       "[1069.0247802734375, 0.5416666865348816]"
      ]
     },
     "execution_count": 573,
     "metadata": {},
     "output_type": "execute_result"
    }
   ],
   "source": [
    "results"
   ]
  },
  {
   "cell_type": "code",
   "execution_count": 574,
   "id": "18cc173e",
   "metadata": {},
   "outputs": [],
   "source": [
    "low_test_error.append(results[0])\n",
    "low_test_acc.append(results[1])"
   ]
  },
  {
   "cell_type": "code",
   "execution_count": 779,
   "id": "67b975ac",
   "metadata": {},
   "outputs": [],
   "source": [
    "predictions_RNN_low = model_RNN_low.predict(x_test)"
   ]
  },
  {
   "cell_type": "code",
   "execution_count": 780,
   "id": "99a651b0",
   "metadata": {},
   "outputs": [
    {
     "name": "stderr",
     "output_type": "stream",
     "text": [
      "Clipping input data to the valid range for imshow with RGB data ([0..1] for floats or [0..255] for integers).\n"
     ]
    },
    {
     "name": "stdout",
     "output_type": "stream",
     "text": [
      "predicted_label =  8\n",
      "true_label in boolean list = [0.0, 0.0, 0.0, 0.0, 0.0, 0.0, 0.0, 0.0, 1.0, 0.0, 0.0, 0.0, 0.0, 0.0, 0.0, 0.0, 0.0, 0.0, 0.0, 0.0, 0.0, 0.0, 0.0, 0.0]\n",
      "true_label after converting to integer = 8\n"
     ]
    },
    {
     "data": {
      "image/png": "[encoded data removed]",
      "text/plain": [
       "<Figure size 1440x360 with 2 Axes>"
      ]
     },
     "metadata": {
      "needs_background": "light"
     },
     "output_type": "display_data"
    }
   ],
   "source": [
    "import numpy as np\n",
    "i = 0\n",
    "plt.figure(figsize=(20,5))\n",
    "plt.subplot(1,2,1)\n",
    "plot_image(i, predictions_RNN_low[i], y_test,x_test)\n",
    "plt.subplot(1,2,2)\n",
    "plot_prediction_array(i, predictions_RNN_low[i], y_test)\n",
    "plt.show()"
   ]
  },
  {
   "cell_type": "code",
   "execution_count": 781,
   "id": "d51e2ff6",
   "metadata": {},
   "outputs": [
    {
     "name": "stderr",
     "output_type": "stream",
     "text": [
      "Clipping input data to the valid range for imshow with RGB data ([0..1] for floats or [0..255] for integers).\n"
     ]
    },
    {
     "name": "stdout",
     "output_type": "stream",
     "text": [
      "predicted_label =  7\n",
      "true_label in boolean list = [0.0, 0.0, 0.0, 0.0, 0.0, 0.0, 0.0, 0.0, 0.0, 0.0, 0.0, 1.0, 0.0, 0.0, 0.0, 0.0, 0.0, 0.0, 0.0, 0.0, 0.0, 0.0, 0.0, 0.0]\n",
      "true_label after converting to integer = 11\n"
     ]
    },
    {
     "data": {
      "image/png": "[encoded data removed]",
      "text/plain": [
       "<Figure size 1440x360 with 2 Axes>"
      ]
     },
     "metadata": {
      "needs_background": "light"
     },
     "output_type": "display_data"
    }
   ],
   "source": [
    "import numpy as np\n",
    "i = 23\n",
    "plt.figure(figsize=(20,5))\n",
    "plt.subplot(1,2,1)\n",
    "plot_image(i, predictions_RNN_low[i], y_test,x_test)\n",
    "plt.subplot(1,2,2)\n",
    "plot_prediction_array(i, predictions_RNN_low[i], y_test)\n",
    "plt.show()"
   ]
  },
  {
   "cell_type": "code",
   "execution_count": 598,
   "id": "b836bbbb",
   "metadata": {},
   "outputs": [
    {
     "data": {
      "text/plain": [
       "[0.5683839321136475, 2.6235358715057373, 1069.0247802734375]"
      ]
     },
     "execution_count": 598,
     "metadata": {},
     "output_type": "execute_result"
    }
   ],
   "source": [
    "low_test_error"
   ]
  },
  {
   "cell_type": "code",
   "execution_count": 581,
   "id": "7e6e6505",
   "metadata": {},
   "outputs": [
    {
     "data": {
      "text/plain": [
       "[0.18277740478515625, 1.984134316444397, 724.483154296875]"
      ]
     },
     "execution_count": 581,
     "metadata": {},
     "output_type": "execute_result"
    }
   ],
   "source": [
    "test_error"
   ]
  },
  {
   "cell_type": "code",
   "execution_count": 586,
   "id": "3170f660",
   "metadata": {},
   "outputs": [
    {
     "data": {
      "text/plain": [
       "[0.875, 0.7083333134651184, 0.5416666865348816]"
      ]
     },
     "execution_count": 586,
     "metadata": {},
     "output_type": "execute_result"
    }
   ],
   "source": [
    "low_test_acc"
   ]
  },
  {
   "cell_type": "code",
   "execution_count": 583,
   "id": "da486ae6",
   "metadata": {},
   "outputs": [
    {
     "data": {
      "text/plain": [
       "[0.9583333134651184, 0.7916666865348816, 0.5416666865348816]"
      ]
     },
     "execution_count": 583,
     "metadata": {},
     "output_type": "execute_result"
    }
   ],
   "source": [
    "test_acc"
   ]
  },
  {
   "cell_type": "markdown",
   "id": "ea8adf5d",
   "metadata": {},
   "source": [
    "# Extra testing"
   ]
  },
  {
   "cell_type": "markdown",
   "id": "3e3f32b5",
   "metadata": {},
   "source": [
    "# ResNet50 model trained on High resolution training dataset tested on low resolution test dataset"
   ]
  },
  {
   "cell_type": "code",
   "execution_count": 634,
   "id": "b2ab93b4",
   "metadata": {},
   "outputs": [
    {
     "name": "stdout",
     "output_type": "stream",
     "text": [
      "1/1 [==============================] - 3s 3s/step - loss: 4.8524 - accuracy: 0.0833\n"
     ]
    }
   ],
   "source": [
    "r = model_ResNet50_high.evaluate(x_test, y_test)"
   ]
  },
  {
   "cell_type": "code",
   "execution_count": 637,
   "id": "96fac94b",
   "metadata": {},
   "outputs": [],
   "source": [
    "predictions_1 = model_ResNet50_high.predict(x_test)"
   ]
  },
  {
   "cell_type": "code",
   "execution_count": 642,
   "id": "610592bc",
   "metadata": {},
   "outputs": [
    {
     "name": "stderr",
     "output_type": "stream",
     "text": [
      "Clipping input data to the valid range for imshow with RGB data ([0..1] for floats or [0..255] for integers).\n"
     ]
    },
    {
     "name": "stdout",
     "output_type": "stream",
     "text": [
      "predicted_label =  22\n",
      "true_label in boolean list = [0.0, 0.0, 0.0, 0.0, 0.0, 0.0, 0.0, 0.0, 0.0, 0.0, 0.0, 0.0, 0.0, 1.0, 0.0, 0.0, 0.0, 0.0, 0.0, 0.0, 0.0, 0.0, 0.0, 0.0]\n",
      "true_label after converting to integer = 13\n"
     ]
    },
    {
     "data": {
      "image/png": "[encoded data removed]",
      "text/plain": [
       "<Figure size 1440x360 with 2 Axes>"
      ]
     },
     "metadata": {
      "needs_background": "light"
     },
     "output_type": "display_data"
    }
   ],
   "source": [
    "import numpy as np\n",
    "i = 23\n",
    "plt.figure(figsize=(20,5))\n",
    "plt.subplot(1,2,1)\n",
    "plot_image(i, predictions_1[i], y_test,x_test)\n",
    "plt.subplot(1,2,2)\n",
    "plot_prediction_array(i, predictions_1[i], y_test)\n",
    "plt.show()"
   ]
  },
  {
   "cell_type": "markdown",
   "id": "8d04384d",
   "metadata": {},
   "source": [
    "# CNN model trained on High resolution training dataset tested on low resolution test dataset"
   ]
  },
  {
   "cell_type": "code",
   "execution_count": 646,
   "id": "be9bbf1a",
   "metadata": {},
   "outputs": [
    {
     "name": "stdout",
     "output_type": "stream",
     "text": [
      "1/1 [==============================] - 0s 167ms/step - loss: 1.9516 - accuracy: 0.6250\n"
     ]
    }
   ],
   "source": [
    "r2 = model_CNN_high.evaluate(x_test, y_test)"
   ]
  },
  {
   "cell_type": "code",
   "execution_count": 647,
   "id": "bf5a2ef6",
   "metadata": {},
   "outputs": [
    {
     "name": "stderr",
     "output_type": "stream",
     "text": [
      "Clipping input data to the valid range for imshow with RGB data ([0..1] for floats or [0..255] for integers).\n"
     ]
    },
    {
     "name": "stdout",
     "output_type": "stream",
     "text": [
      "predicted_label =  13\n",
      "true_label in boolean list = [0.0, 0.0, 0.0, 0.0, 0.0, 0.0, 0.0, 0.0, 0.0, 0.0, 0.0, 0.0, 0.0, 1.0, 0.0, 0.0, 0.0, 0.0, 0.0, 0.0, 0.0, 0.0, 0.0, 0.0]\n",
      "true_label after converting to integer = 13\n"
     ]
    },
    {
     "data": {
      "image/png": "[encoded data removed]",
      "text/plain": [
       "<Figure size 1440x360 with 2 Axes>"
      ]
     },
     "metadata": {
      "needs_background": "light"
     },
     "output_type": "display_data"
    }
   ],
   "source": [
    "predictions_2 = model_CNN_high.predict(x_test)\n",
    "\n",
    "import numpy as np\n",
    "i = 23\n",
    "plt.figure(figsize=(20,5))\n",
    "plt.subplot(1,2,1)\n",
    "plot_image(i, predictions_2[i], y_test,x_test)\n",
    "plt.subplot(1,2,2)\n",
    "plot_prediction_array(i, predictions_2[i], y_test)\n",
    "plt.show()"
   ]
  },
  {
   "cell_type": "markdown",
   "id": "56a9ccd4",
   "metadata": {},
   "source": [
    "# RNN model trained on High resolution training dataset tested on low resolution test dataset"
   ]
  },
  {
   "cell_type": "code",
   "execution_count": 648,
   "id": "045c279e",
   "metadata": {},
   "outputs": [
    {
     "name": "stdout",
     "output_type": "stream",
     "text": [
      "1/1 [==============================] - 0s 38ms/step - loss: 805.0773 - accuracy: 0.4167\n"
     ]
    }
   ],
   "source": [
    "r3 = model_RNN.evaluate(x_test, y_test)"
   ]
  },
  {
   "cell_type": "code",
   "execution_count": 649,
   "id": "19c5bfb4",
   "metadata": {},
   "outputs": [
    {
     "name": "stderr",
     "output_type": "stream",
     "text": [
      "Clipping input data to the valid range for imshow with RGB data ([0..1] for floats or [0..255] for integers).\n"
     ]
    },
    {
     "name": "stdout",
     "output_type": "stream",
     "text": [
      "predicted_label =  0\n",
      "true_label in boolean list = [0.0, 0.0, 0.0, 0.0, 0.0, 0.0, 0.0, 0.0, 0.0, 0.0, 0.0, 0.0, 0.0, 1.0, 0.0, 0.0, 0.0, 0.0, 0.0, 0.0, 0.0, 0.0, 0.0, 0.0]\n",
      "true_label after converting to integer = 13\n"
     ]
    },
    {
     "data": {
      "image/png": "[encoded data removed]",
      "text/plain": [
       "<Figure size 1440x360 with 2 Axes>"
      ]
     },
     "metadata": {
      "needs_background": "light"
     },
     "output_type": "display_data"
    }
   ],
   "source": [
    "predictions_3 = model_RNN.predict(x_test)\n",
    "\n",
    "import numpy as np\n",
    "i = 23\n",
    "plt.figure(figsize=(20,5))\n",
    "plt.subplot(1,2,1)\n",
    "plot_image(i, predictions_3[i], y_test,x_test)\n",
    "plt.subplot(1,2,2)\n",
    "plot_prediction_array(i, predictions_3[i], y_test)\n",
    "plt.show()"
   ]
  },
  {
   "cell_type": "markdown",
   "id": "31984be8",
   "metadata": {},
   "source": [
    "# ResNet50 model trained on low resolution training dataset tested on high resolution test dataset"
   ]
  },
  {
   "cell_type": "code",
   "execution_count": 660,
   "id": "837e5d84",
   "metadata": {},
   "outputs": [
    {
     "name": "stdout",
     "output_type": "stream",
     "text": [
      "1/1 [==============================] - 3s 3s/step - loss: 9.5072 - accuracy: 0.1250\n"
     ]
    }
   ],
   "source": [
    "r4 = model_ResNet50_low.evaluate(x_test, y_test)"
   ]
  },
  {
   "cell_type": "code",
   "execution_count": 661,
   "id": "b51393f1",
   "metadata": {},
   "outputs": [
    {
     "name": "stderr",
     "output_type": "stream",
     "text": [
      "Clipping input data to the valid range for imshow with RGB data ([0..1] for floats or [0..255] for integers).\n"
     ]
    },
    {
     "name": "stdout",
     "output_type": "stream",
     "text": [
      "predicted_label =  3\n",
      "true_label in boolean list = [0.0, 0.0, 1.0, 0.0, 0.0, 0.0, 0.0, 0.0, 0.0, 0.0, 0.0, 0.0, 0.0, 0.0, 0.0, 0.0, 0.0, 0.0, 0.0, 0.0, 0.0, 0.0, 0.0, 0.0]\n",
      "true_label after converting to integer = 2\n"
     ]
    },
    {
     "data": {
      "image/png": "[encoded data removed]",
      "text/plain": [
       "<Figure size 1440x360 with 2 Axes>"
      ]
     },
     "metadata": {
      "needs_background": "light"
     },
     "output_type": "display_data"
    }
   ],
   "source": [
    "predictions_4 = model_ResNet50_low.predict(x_test)\n",
    "\n",
    "import numpy as np\n",
    "i = 23\n",
    "plt.figure(figsize=(20,5))\n",
    "plt.subplot(1,2,1)\n",
    "plot_image(i, predictions_4[i], y_test,x_test)\n",
    "plt.subplot(1,2,2)\n",
    "plot_prediction_array(i, predictions_4[i], y_test)\n",
    "plt.show()"
   ]
  },
  {
   "cell_type": "markdown",
   "id": "c348bc5d",
   "metadata": {},
   "source": [
    "# CNN model trained on low resolution training dataset tested on high resolution test dataset"
   ]
  },
  {
   "cell_type": "code",
   "execution_count": 662,
   "id": "98d48213",
   "metadata": {},
   "outputs": [
    {
     "name": "stdout",
     "output_type": "stream",
     "text": [
      "1/1 [==============================] - 0s 119ms/step - loss: 3.5089 - accuracy: 0.5833\n"
     ]
    }
   ],
   "source": [
    "r5 = model_CNN.evaluate(x_test, y_test)"
   ]
  },
  {
   "cell_type": "code",
   "execution_count": 663,
   "id": "5a1158d1",
   "metadata": {},
   "outputs": [
    {
     "name": "stderr",
     "output_type": "stream",
     "text": [
      "Clipping input data to the valid range for imshow with RGB data ([0..1] for floats or [0..255] for integers).\n"
     ]
    },
    {
     "name": "stdout",
     "output_type": "stream",
     "text": [
      "predicted_label =  8\n",
      "true_label in boolean list = [0.0, 0.0, 1.0, 0.0, 0.0, 0.0, 0.0, 0.0, 0.0, 0.0, 0.0, 0.0, 0.0, 0.0, 0.0, 0.0, 0.0, 0.0, 0.0, 0.0, 0.0, 0.0, 0.0, 0.0]\n",
      "true_label after converting to integer = 2\n"
     ]
    },
    {
     "data": {
      "image/png": "[encoded data removed]",
      "text/plain": [
       "<Figure size 1440x360 with 2 Axes>"
      ]
     },
     "metadata": {
      "needs_background": "light"
     },
     "output_type": "display_data"
    }
   ],
   "source": [
    "predictions_5 = model_CNN.predict(x_test)\n",
    "\n",
    "import numpy as np\n",
    "i = 23\n",
    "plt.figure(figsize=(20,5))\n",
    "plt.subplot(1,2,1)\n",
    "plot_image(i, predictions_5[i], y_test,x_test)\n",
    "plt.subplot(1,2,2)\n",
    "plot_prediction_array(i, predictions_5[i], y_test)\n",
    "plt.show()"
   ]
  },
  {
   "cell_type": "markdown",
   "id": "7e5b9cc4",
   "metadata": {},
   "source": [
    "# RNN model trained on low resolution training dataset tested on high resolution test dataset"
   ]
  },
  {
   "cell_type": "code",
   "execution_count": 664,
   "id": "2f9c0fd6",
   "metadata": {},
   "outputs": [
    {
     "name": "stdout",
     "output_type": "stream",
     "text": [
      "1/1 [==============================] - 0s 42ms/step - loss: 853.2539 - accuracy: 0.5000\n"
     ]
    }
   ],
   "source": [
    "r6 = model_RNN_low.evaluate(x_test, y_test)"
   ]
  },
  {
   "cell_type": "code",
   "execution_count": 665,
   "id": "93ed228f",
   "metadata": {},
   "outputs": [
    {
     "name": "stderr",
     "output_type": "stream",
     "text": [
      "Clipping input data to the valid range for imshow with RGB data ([0..1] for floats or [0..255] for integers).\n"
     ]
    },
    {
     "name": "stdout",
     "output_type": "stream",
     "text": [
      "predicted_label =  2\n",
      "true_label in boolean list = [0.0, 0.0, 1.0, 0.0, 0.0, 0.0, 0.0, 0.0, 0.0, 0.0, 0.0, 0.0, 0.0, 0.0, 0.0, 0.0, 0.0, 0.0, 0.0, 0.0, 0.0, 0.0, 0.0, 0.0]\n",
      "true_label after converting to integer = 2\n"
     ]
    },
    {
     "data": {
      "image/png": "[encoded data removed]",
      "text/plain": [
       "<Figure size 1440x360 with 2 Axes>"
      ]
     },
     "metadata": {
      "needs_background": "light"
     },
     "output_type": "display_data"
    }
   ],
   "source": [
    "predictions_6 = model_RNN_low.predict(x_test)\n",
    "\n",
    "import numpy as np\n",
    "i = 23\n",
    "plt.figure(figsize=(20,5))\n",
    "plt.subplot(1,2,1)\n",
    "plot_image(i, predictions_6[i], y_test,x_test)\n",
    "plt.subplot(1,2,2)\n",
    "plot_prediction_array(i, predictions_6[i], y_test)\n",
    "plt.show()"
   ]
  },
  {
   "cell_type": "markdown",
   "id": "4ea90114",
   "metadata": {},
   "source": [
    "# Accuracy for Low and High Quality Data (ResNet50)"
   ]
  },
  {
   "cell_type": "code",
   "execution_count": 782,
   "id": "199a9c66",
   "metadata": {},
   "outputs": [],
   "source": [
    "low = low_test_acc[0]\n",
    "high = test_acc[0]\n",
    "bar = [low,high]"
   ]
  },
  {
   "cell_type": "code",
   "execution_count": 783,
   "id": "0e4606bf",
   "metadata": {},
   "outputs": [
    {
     "data": {
      "text/plain": [
       "<AxesSubplot:>"
      ]
     },
     "execution_count": 783,
     "metadata": {},
     "output_type": "execute_result"
    },
    {
     "data": {
      "image/png": "[encoded data removed]",
      "text/plain": [
       "<Figure size 432x288 with 1 Axes>"
      ]
     },
     "metadata": {
      "needs_background": "light"
     },
     "output_type": "display_data"
    }
   ],
   "source": [
    "import seaborn as sns\n",
    "sns.barplot(x = bar,y = [\"low_quality_ResNet\",\"high_quality_ResNet\"],palette = \"spring\")"
   ]
  },
  {
   "cell_type": "markdown",
   "id": "dd89e2d8",
   "metadata": {},
   "source": [
    "# Accuracy for Low and High Quality Data (CNN)"
   ]
  },
  {
   "cell_type": "code",
   "execution_count": 784,
   "id": "7d300164",
   "metadata": {},
   "outputs": [
    {
     "data": {
      "text/plain": [
       "<AxesSubplot:>"
      ]
     },
     "execution_count": 784,
     "metadata": {},
     "output_type": "execute_result"
    },
    {
     "data": {
      "image/png": "[encoded data removed]",
      "text/plain": [
       "<Figure size 432x288 with 1 Axes>"
      ]
     },
     "metadata": {
      "needs_background": "light"
     },
     "output_type": "display_data"
    }
   ],
   "source": [
    "low = low_test_acc[1]\n",
    "high = test_acc[1]\n",
    "bar = [low,high]\n",
    "sns.barplot(x = bar,y = [\"low_quality_CNN\",\"high_quality_CNN\"],palette = \"spring\")"
   ]
  },
  {
   "cell_type": "markdown",
   "id": "29dc2b23",
   "metadata": {},
   "source": [
    "# Accuracy for Low and High Quality Data (RNN)"
   ]
  },
  {
   "cell_type": "code",
   "execution_count": 785,
   "id": "0f4de2cd",
   "metadata": {},
   "outputs": [
    {
     "data": {
      "text/plain": [
       "<AxesSubplot:>"
      ]
     },
     "execution_count": 785,
     "metadata": {},
     "output_type": "execute_result"
    },
    {
     "data": {
      "image/png": "[encoded data removed]",
      "text/plain": [
       "<Figure size 432x288 with 1 Axes>"
      ]
     },
     "metadata": {
      "needs_background": "light"
     },
     "output_type": "display_data"
    }
   ],
   "source": [
    "low = low_test_acc[2]\n",
    "high = test_acc[2]\n",
    "bar = [low,high]\n",
    "sns.barplot(x = bar,y = [\"low_quality_RNN\",\"high_quality_RNN\"],palette = \"spring\")"
   ]
  },
  {
   "cell_type": "markdown",
   "id": "9028e53f",
   "metadata": {},
   "source": [
    "# Error for Low and High Quality Data (ResNet50)"
   ]
  },
  {
   "cell_type": "code",
   "execution_count": 786,
   "id": "f8d4eb6d",
   "metadata": {},
   "outputs": [
    {
     "data": {
      "text/plain": [
       "<AxesSubplot:>"
      ]
     },
     "execution_count": 786,
     "metadata": {},
     "output_type": "execute_result"
    },
    {
     "data": {
      "image/png": "[encoded data removed]",
      "text/plain": [
       "<Figure size 432x288 with 1 Axes>"
      ]
     },
     "metadata": {
      "needs_background": "light"
     },
     "output_type": "display_data"
    }
   ],
   "source": [
    "low = low_test_error[0]\n",
    "high = test_error[0]\n",
    "bar = [low,high]\n",
    "sns.barplot(x = bar,y = [\"low_quality_ResNet\",\"high_quality_ResNet\"],palette = \"spring\")"
   ]
  },
  {
   "cell_type": "markdown",
   "id": "dcf0044c",
   "metadata": {},
   "source": [
    "# Error for Low and High Quality Data (CNN)"
   ]
  },
  {
   "cell_type": "code",
   "execution_count": 787,
   "id": "3b900bb1",
   "metadata": {},
   "outputs": [
    {
     "data": {
      "text/plain": [
       "<AxesSubplot:>"
      ]
     },
     "execution_count": 787,
     "metadata": {},
     "output_type": "execute_result"
    },
    {
     "data": {
      "image/png": "[encoded data removed]",
      "text/plain": [
       "<Figure size 432x288 with 1 Axes>"
      ]
     },
     "metadata": {
      "needs_background": "light"
     },
     "output_type": "display_data"
    }
   ],
   "source": [
    "low = low_test_error[1]\n",
    "high = test_error[1]\n",
    "bar = [low,high]\n",
    "sns.barplot(x = bar,y = [\"low_quality_CNN\",\"high_quality_CNN\"],palette = \"spring\")"
   ]
  },
  {
   "cell_type": "markdown",
   "id": "e21c950e",
   "metadata": {},
   "source": [
    "# Error for Low and High Quality Data (RNN)"
   ]
  },
  {
   "cell_type": "code",
   "execution_count": 788,
   "id": "34edcc4b",
   "metadata": {},
   "outputs": [
    {
     "data": {
      "text/plain": [
       "<AxesSubplot:>"
      ]
     },
     "execution_count": 788,
     "metadata": {},
     "output_type": "execute_result"
    },
    {
     "data": {
      "image/png": "[encoded data removed]",
      "text/plain": [
       "<Figure size 432x288 with 1 Axes>"
      ]
     },
     "metadata": {
      "needs_background": "light"
     },
     "output_type": "display_data"
    }
   ],
   "source": [
    "low = low_test_error[2]\n",
    "high = test_error[2]\n",
    "bar = [low,high]\n",
    "sns.barplot(x = bar,y = [\"low_quality_RNN\",\"high_quality_RNN\"],palette = \"spring\")"
   ]
  },
  {
   "cell_type": "code",
   "execution_count": 789,
   "id": "7248ed6f",
   "metadata": {},
   "outputs": [
    {
     "data": {
      "text/plain": [
       "[1069.0247802734375, 724.483154296875]"
      ]
     },
     "execution_count": 789,
     "metadata": {},
     "output_type": "execute_result"
    }
   ],
   "source": [
    "bar"
   ]
  },
  {
   "cell_type": "markdown",
   "id": "c41c0b97",
   "metadata": {},
   "source": [
    "# Error for Low and High Quality"
   ]
  },
  {
   "cell_type": "code",
   "execution_count": 790,
   "id": "b70d0958",
   "metadata": {},
   "outputs": [
    {
     "data": {
      "text/plain": [
       "<matplotlib.legend.Legend at 0x1b342dbfc10>"
      ]
     },
     "execution_count": 790,
     "metadata": {},
     "output_type": "execute_result"
    },
    {
     "data": {
      "image/png": "[encoded data removed]",
      "text/plain": [
       "<Figure size 432x288 with 1 Axes>"
      ]
     },
     "metadata": {
      "needs_background": "light"
     },
     "output_type": "display_data"
    }
   ],
   "source": [
    "plt.plot([\"ResNet\",\"CNN\",\"RNN\"],low_test_error,\"o\")\n",
    "plt.plot([\"ResNet\",\"CNN\",\"RNN\"],test_error)\n",
    "plt.legend(['low_test_error',\"High_test_error\"])"
   ]
  },
  {
   "cell_type": "markdown",
   "id": "4abe341f",
   "metadata": {},
   "source": [
    "# Accuracy for Low and High Quality"
   ]
  },
  {
   "cell_type": "code",
   "execution_count": 791,
   "id": "986b30b5",
   "metadata": {},
   "outputs": [
    {
     "data": {
      "text/plain": [
       "<matplotlib.legend.Legend at 0x1b2169476d0>"
      ]
     },
     "execution_count": 791,
     "metadata": {},
     "output_type": "execute_result"
    },
    {
     "data": {
      "image/png": "[encoded data removed]",
      "text/plain": [
       "<Figure size 432x288 with 1 Axes>"
      ]
     },
     "metadata": {
      "needs_background": "light"
     },
     "output_type": "display_data"
    }
   ],
   "source": [
    "plt.plot([\"ResNet\",\"CNN\",\"RNN\"],low_test_acc)\n",
    "plt.plot([\"ResNet\",\"CNN\",\"RNN\"],test_acc)\n",
    "plt.legend(['Low_test_accurcay',\"High_test_accuracy\"])"
   ]
  }
 ],
 "metadata": {
  "kernelspec": {
   "display_name": "Python 3 (ipykernel)",
   "language": "python",
   "name": "python3"
  },
  "language_info": {
   "codemirror_mode": {
    "name": "ipython",
    "version": 3
   },
   "file_extension": ".py",
   "mimetype": "text/x-python",
   "name": "python",
   "nbconvert_exporter": "python",
   "pygments_lexer": "ipython3",
   "version": "3.8.10"
  }
 },
 "nbformat": 4,
 "nbformat_minor": 5
}
